{
 "cells": [
  {
   "cell_type": "code",
   "execution_count": null,
   "metadata": {},
   "outputs": [],
   "source": [
    "pip install pyforest"
   ]
  },
  {
   "cell_type": "code",
   "execution_count": null,
   "metadata": {},
   "outputs": [],
   "source": [
    "pip install SQLAlchemy"
   ]
  },
  {
   "cell_type": "code",
   "execution_count": 2,
   "metadata": {},
   "outputs": [],
   "source": [
    "# Connect to the PostgreSQL database server\n",
    "def sql_reading():\n",
    "    from sqlalchemy import create_engine\n",
    "    # connect to the PostgreSQL server\n",
    "    print('Connecting to the PostgreSQL database...')\n",
    "    engine = create_engine()\n",
    "    df = pd.read_sql(\n",
    "        \"SELECT sysname, str_id, esm_v, datetime FROM battery_string WHERE sysname = 'GC01' and datetime between '2021-06-30 12:40:00' and '2021-06-30 16:40:00';\", engine) \n",
    "    print(sysname_value+' is analyzed.')\n",
    "    return df\n",
    "\n",
    "# Reading the CSV file\n",
    "def csv_reading(sysname):\n",
    "    #all_files = sorted(glob(\"Users\\Admin\\Documents\\Isabella\\Advanced Analysis\\esm_string\\battery_string\\esm_string_\"+sysname+\".csv\"))\n",
    "    if os.path.isfile(\"csv_string/esm_string_\"+sysname+\".csv\"):\n",
    "        frame = pd.read_csv(\"csv_string/esm_string_\"+sysname+\".csv\",delimiter = ',',encoding = 'UTF-8')\n",
    "        print(sysname+' is read!')                  \n",
    "        return frame\n",
    "    else:\n",
    "        frame=pd.DataFrame()\n",
    "        return frame\n",
    "\n",
    "# Grouping strings according to esm_v\n",
    "def grouping_v(df):\n",
    "    conditions = [ \n",
    "        (df.esm_v<660), # 0 group\n",
    "        (df.esm_v>=660) & (df.esm_v<720), # 1 group\n",
    "        (df.esm_v>=720) & (df.esm_v<780), # 2 group\n",
    "        (df.esm_v>=780) & (df.esm_v<840), # 3 group\n",
    "        (df.esm_v>=840) # 4 group\n",
    "    ]\n",
    "    values = [0,1,2,3,4] \n",
    "    df2=pd.DataFrame()\n",
    "    df2['datetime'] = df['datetime']\n",
    "    df2['sysname'] = df['sysname']\n",
    "    df2['str_id'] = df['str_id']\n",
    "    df2['group_v'] = np.select(conditions,values) #group value assigning to strings\n",
    "    print('Size: ',len(df2)) # printing the size of the dataframe\n",
    "    return df2\n",
    "\n",
    "# Converting datetime columns to datetime format (not needed now, it will be used for calculating the duration)\n",
    "def datetime_converting(df):\n",
    "    # we have 2 different datetime format in the csv files you provided me. The first is: '06/03/2020 17:30:03' ,\n",
    "    # The second is like '2021-02-21 17:39:02'\n",
    "    df['datetimep'] = pd.to_datetime(df.datetime, format='%m/%d/%Y %H:%M', errors='coerce') # converting the first datetime format type\n",
    "    mask = df.datetimep.isnull()\n",
    "    df.loc[mask, 'datetimep'] = pd.to_datetime(df[mask]['datetime'], format='%Y-%m-%d %H:%M:%S.%f',# converting the second datetime format type\n",
    "                                                                                            errors='coerce')\n",
    "    df = df.drop(columns='datetime')\n",
    "    df.rename(columns = {'datetimep':'datetime'}, inplace = True)\n",
    "    df5 = df['datetime']\n",
    "    df['datetime'] = df5.dt.tz_convert('Asia/Hong_Kong') \n",
    "    df = df.sort_values(by=['str_id','sysname','group_v'])\n",
    "    return df\n",
    "\n",
    "#datetime converting for  csv\n",
    "def datetime_converting_for_csv(df):\n",
    "    # we have 2 different datetime format in the csv files you provided me. The first is: '06/03/2020 17:30:03' ,\n",
    "    # The second is like '2021-02-21 17:39:02'\n",
    "    df['datetimep'] = pd.to_datetime(df.datetime, format='%m/%d/%Y %H:%M', errors='coerce') # converting the first datetime format type\n",
    "    mask = df.datetimep.isnull()\n",
    "    df.loc[mask, 'datetimep'] = pd.to_datetime(df[mask]['datetime'], format='%Y-%m-%d %H:%M:%S.%f',# converting the second datetime format type\n",
    "                                                                                            errors='coerce')\n",
    "    df = df.drop(columns='datetime')\n",
    "    df.rename(columns = {'datetimep':'datetime'}, inplace = True)\n",
    "    df5 = df['datetime']\n",
    "    df = df.sort_values(by=['str_id','sysname','group_v'])\n",
    "    return df\n",
    "\n",
    "# Grouping the duration rows according to time duration\n",
    "def duration_grouping(df):\n",
    "    conditions = [\n",
    "        (df.duration<timedelta(minutes=60)),\n",
    "        (timedelta(minutes=60)<=df.duration) & (df.duration<timedelta(minutes=360)),\n",
    "        (timedelta(minutes=360)<=df.duration) & (df.duration<timedelta(minutes=1440)),\n",
    "        (df.duration>timedelta(minutes=1440))\n",
    "    ]\n",
    "    values = [0,1,2,3]\n",
    "    df['duration'] = np.select(conditions,values)\n",
    "    return df\n",
    "\n",
    "# Summing the row of time_difference_sum\n",
    "def sum_rows(df,df2):\n",
    "    df3 = []\n",
    "    df_fin = pd.DataFrame()\n",
    "    n=0\n",
    "    for index, row in df2.iterrows():\n",
    "        df3.append(df[n:index].groupby(['sysname','str_id','group_v'])['time_difference_sum'].sum().reset_index(name='duration'))\n",
    "        n = index\n",
    "    df_fin = pd.concat(df3,ignore_index=True)\n",
    "    return df_fin\n",
    "\n",
    "# Counting the number of appearances in one group per str_id\n",
    "def counting_duration(df):\n",
    "    df2 = pd.DataFrame()\n",
    "    df2 = df[['sysname', 'str_id','group_v','duration']].groupby(['sysname', 'str_id','group_v','duration']).size().reset_index(name='count')\n",
    "    return df2\n",
    "\n",
    "\n",
    "# Creating the duration groups\n",
    "def creating_duration(df):\n",
    "    df.drop_duplicates()\n",
    "    df2 = grouping_v(df)\n",
    "    df2 = datetime_converting(df2)\n",
    "    df2['time_difference_sum'] = df2.groupby('str_id')['datetime'].diff()\n",
    "    conditions =  [\n",
    "        df2.time_difference_sum > timedelta(minutes=15),\n",
    "        df2.time_difference_sum < timedelta(minutes=0),\n",
    "        df2.time_difference_sum < timedelta(minutes=15)\n",
    "    ]\n",
    "    values = [True,True,False]\n",
    "    df2['Errors'] = np.select(conditions,values)\n",
    "    df2['Index'] = np.arange(0,len(df))\n",
    "    df2 = df2.set_index('Index')\n",
    "    df2['time_difference_sum'].loc[df2.Errors==True] = timedelta(seconds=0)\n",
    "    df3 = df2[df2.Errors==True]\n",
    "    df4 = sum_rows(df2,df3) # calling the sum_rows function\n",
    "    df4 = duration_grouping(df4)\n",
    "    df4 = counting_duration(df4)\n",
    "    return df4\n",
    "\n",
    "\n",
    "# Creating the duration groups\n",
    "def creating_duration_for_csv(df):\n",
    "    df.drop_duplicates()\n",
    "    df2 = grouping_v(df)\n",
    "    df2 = datetime_converting_for_csv(df2)\n",
    "    df2['time_difference_sum'] = df2.groupby('str_id')['datetime'].diff()\n",
    "    conditions =  [\n",
    "        df2.time_difference_sum > timedelta(minutes=15),\n",
    "        df2.time_difference_sum < timedelta(minutes=0),\n",
    "        df2.time_difference_sum < timedelta(minutes=15)\n",
    "    ]\n",
    "    values = [True,True,False]\n",
    "    df2['Errors'] = np.select(conditions,values)\n",
    "    df2['Index'] = np.arange(0,len(df))\n",
    "    df2 = df2.set_index('Index')\n",
    "    df2['time_difference_sum'].loc[df2.Errors==True] = timedelta(seconds=0)\n",
    "    df3 = df2[df2.Errors==True]\n",
    "    df4 = sum_rows(df2,df3) # calling the sum_rows function\n",
    "    df4 = duration_grouping(df4)\n",
    "    df4 = counting_duration(df4)\n",
    "    return df4\n",
    "\n",
    "# Plotting the stacked bar graph\n",
    "def plotting_stacked_bar_graph(df):\n",
    "    df3 = df.drop(['sysname','str_id'],axis=1).groupby(['group_v','duration']).agg({'count': 'count'})\n",
    "    df3 = df3.groupby(level=0).apply(lambda x:\n",
    "                    100 * x / float(x.sum())).reset_index()\n",
    "    plt.rcParams[\"figure.figsize\"] = (12,8)\n",
    "    plt.style.use('ggplot')\n",
    "\n",
    "    fig = df3.set_index(['group_v','duration'])\\\n",
    "        ['count'].unstack()\\\n",
    "        .plot.bar(stacked=True)\n",
    "    fig.set_ylim([0, 100])\n",
    "    plt.ylabel('Percentage')\n",
    "    plt.show()\n",
    "    return None\n",
    "\n",
    "\n",
    "# Saving csv files in the new folder\n",
    "def csv_saving(df,sysname):\n",
    "    import os\n",
    "    #outdir = '/Users/Admin/Documents/Akzhan/Project1' \n",
    "    outdir = './Groups_csv_files'\n",
    "    outname = 'esm_string_analysis_'+str(sysname)+'.csv' # dynamic naming of csv files according to sysname\n",
    "    if not os.path.exists(outdir):\n",
    "        os.mkdir(outdir) # here the new folder called 'Groups_csv_files' is automatically created on your default path \n",
    "    fullname = os.path.join(outdir, outname)\n",
    "    df.to_csv(fullname)# all csv files are saved in the new folder with the corresponding name\n",
    "   "
   ]
  },
  {
   "cell_type": "code",
   "execution_count": 3,
   "metadata": {},
   "outputs": [],
   "source": [
    "# Function to iterate all sysnames values to the script\n",
    "def final_result_from_sql():\n",
    "    sysname_value = ''\n",
    "    df_read = pd.DataFrame()\n",
    "    df_final=pd.DataFrame()\n",
    "    df_concat=pd.DataFrame()\n",
    "    sysname_arr = [\n",
    "        \"AE01\"#,  \"AG01\",  \"Andie\", \"BK01\"#,  \"BK02\", \n",
    "    #\"BS01\",  \"CC01\",  \"CR01\",  \"CR02\",  \"CR03\", \n",
    "    #\"CR04\",  \"CR05\",  \"CS01\",  \"CS02\",  \"CV01\" ,\n",
    "    #\"CW01\",  \"GC01\",  \"GC02\",  \"HC01\",  \"HE01\", \n",
    "    #\"HE02\",  \"HH01\", \"HH02\",  \"HH03\" , \"HH04\", \n",
    "   # \"HH05\" , \"HH06\" , \"HH07\" , \"HH08\",  \"HH09\", \n",
    "    #\"HH10\",  \"HH11\",  \"HH12\",  \"PY01\",  \"PY02\", \n",
    "   # \"PY03\",  \"RD01\",  \"RD02\",  \"RD04\",  \"RD05\", \n",
    "   # \"RD06\",  \"RD07\",  \"RD08\",  \"RD09\",  \"RD10\", \n",
    "   # \"RD11\",  \"RD12\",  \"RD13\",  \"RD14\",  \"RD15\" ,\n",
    "    #\"RD16\",  \"RD17\",  \"RD18\",  \"RD19\",  \"SP01\", \n",
    "    #\"SU01\",  \"SU02\",  \"SU03\",  \"SU04\",  \"Tammy\"\n",
    "    ]\n",
    "    df_list = []\n",
    "    for i in range(len(sysname_arr)): # looping sysname  for the script\n",
    "        sysname_value = sysname_arr[i]\n",
    "        df_read = sql_reading() # calling the function sql_reading()\n",
    "        if df_read.shape[0]==0:\n",
    "            print(sysname_value,' has no data!')\n",
    "            continue\n",
    "        df_final = creating_duration(df_read) # calling the function creating_duration()\n",
    "        df_list.append(df_final)\n",
    "        csv_saving(df_final,sysname_value) # calling the function csv_saving()\n",
    "        print('CSV file of <',sysname_value,'> is ready!')\n",
    "    df_concat = pd.concat(df_list,ignore_index=True)\n",
    "    plotting_stacked_bar_graph(df_concat)# plotting the graph\n",
    "    return df_concat\n",
    "    "
   ]
  },
  {
   "cell_type": "code",
   "execution_count": 69,
   "metadata": {},
   "outputs": [],
   "source": [
    "# Function to iterate all sysnames values to the script\n",
    "def final_result_from_csv():\n",
    "    sysname_value = ''\n",
    "    df_read = pd.DataFrame()\n",
    "    df_final=pd.DataFrame()\n",
    "    df_concat=pd.DataFrame()\n",
    "    sysname_arr = [\n",
    "        \"AE01\",  \"AG01\",  \"Andie\", \"BK01\", \"BK02\", \n",
    "    #\"BS01\",  \"CC01\",  \"CR01\",  \"CR02\",  \"CR03\", \n",
    "    #\"CR04\",  \"CR05\",  \"CS01\",  \"CS02\",  \"CV01\" ,\n",
    "    #\"CW01\",  \"GC01\", # \"GC02\",  \"HC01\",  \"HE01\", \n",
    "    #\"HE02\",  \"HH01\", \"HH02\",  \"HH03\" , \"HH04\", \n",
    "    #\"HH05\" , \"HH06\" , \"HH07\" , \"HH08\",  \"HH09\", \n",
    "    #\"HH10\",  \"HH11\",  \"HH12\",  \"PY01\",  \"PY02\", \n",
    "    #\"PY03\",  \"RD01\",  \"RD02\",  \"RD04\",  \"RD05\", \n",
    "    #\"RD06\",  \"RD07\",  \"RD08\",  \"RD09\",  \"RD10\", \n",
    "    #\"RD11\",  \"RD12\",  \"RD13\",  \"RD14\",  \"RD15\" ,\n",
    "    #\"RD16\",  \"RD17\",  \"RD18\",  \"RD19\",  \"SP01\", \n",
    "    #\"SU01\",  \"SU02\",  \"SU03\",  \"SU04\",  \"Tammy\"\n",
    "    ]\n",
    "    df_list = []\n",
    "    for i in range(len(sysname_arr)): # looping sysname  for the script\n",
    "        sysname_value = sysname_arr[i].lower()\n",
    "        df_read = csv_reading(sysname_value) # calling the function sql_reading()\n",
    "        if df_read.shape[0]==0:\n",
    "            print(sysname_value,' has no data or absent!')\n",
    "            continue\n",
    "        df_final = creating_duration_for_csv(df_read) # calling the function creating_duration()\n",
    "        df_list.append(df_final)\n",
    "        csv_saving(df_final,sysname_value) # calling the function csv_saving()\n",
    "        print('CSV file of <',sysname_value,'> is ready!')\n",
    "    if len(df_list) !=0:\n",
    "        df_concat = pd.concat(df_list,ignore_index=True)\n",
    "        plotting_stacked_bar_graph(df_concat)# plotting the graph\n",
    "    return df_concat\n",
    "    "
   ]
  },
  {
   "cell_type": "code",
   "execution_count": 4,
   "metadata": {},
   "outputs": [
    {
     "data": {
      "application/javascript": [
       "\n",
       "        if (window._pyforest_update_imports_cell) { window._pyforest_update_imports_cell('import pandas as pd'); }\n",
       "    "
      ],
      "text/plain": [
       "<IPython.core.display.Javascript object>"
      ]
     },
     "metadata": {},
     "output_type": "display_data"
    },
    {
     "data": {
      "application/javascript": [
       "\n",
       "        if (window._pyforest_update_imports_cell) { window._pyforest_update_imports_cell('import pandas as pd'); }\n",
       "    "
      ],
      "text/plain": [
       "<IPython.core.display.Javascript object>"
      ]
     },
     "metadata": {},
     "output_type": "display_data"
    },
    {
     "data": {
      "application/javascript": [
       "\n",
       "        if (window._pyforest_update_imports_cell) { window._pyforest_update_imports_cell('import pandas as pd'); }\n",
       "    "
      ],
      "text/plain": [
       "<IPython.core.display.Javascript object>"
      ]
     },
     "metadata": {},
     "output_type": "display_data"
    },
    {
     "data": {
      "application/javascript": [
       "\n",
       "        if (window._pyforest_update_imports_cell) { window._pyforest_update_imports_cell('import pandas as pd'); }\n",
       "    "
      ],
      "text/plain": [
       "<IPython.core.display.Javascript object>"
      ]
     },
     "metadata": {},
     "output_type": "display_data"
    },
    {
     "name": "stdout",
     "output_type": "stream",
     "text": [
      "Connecting to the PostgreSQL database...\n"
     ]
    },
    {
     "ename": "TypeError",
     "evalue": "create_engine() missing 1 required positional argument: 'url'",
     "output_type": "error",
     "traceback": [
      "\u001b[1;31m---------------------------------------------------------------------------\u001b[0m",
      "\u001b[1;31mTypeError\u001b[0m                                 Traceback (most recent call last)",
      "\u001b[1;32m<ipython-input-4-493c21d28368>\u001b[0m in \u001b[0;36m<module>\u001b[1;34m\u001b[0m\n\u001b[0;32m      4\u001b[0m \u001b[0mdf\u001b[0m \u001b[1;33m=\u001b[0m \u001b[0mpd\u001b[0m\u001b[1;33m.\u001b[0m\u001b[0mDataFrame\u001b[0m\u001b[1;33m(\u001b[0m\u001b[1;33m)\u001b[0m\u001b[1;33m\u001b[0m\u001b[1;33m\u001b[0m\u001b[0m\n\u001b[0;32m      5\u001b[0m \u001b[0mstart\u001b[0m \u001b[1;33m=\u001b[0m \u001b[0mtime\u001b[0m\u001b[1;33m.\u001b[0m\u001b[0mtime\u001b[0m\u001b[1;33m(\u001b[0m\u001b[1;33m)\u001b[0m\u001b[1;33m\u001b[0m\u001b[1;33m\u001b[0m\u001b[0m\n\u001b[1;32m----> 6\u001b[1;33m \u001b[0mdf\u001b[0m\u001b[1;33m=\u001b[0m\u001b[0mfinal_result_from_sql\u001b[0m\u001b[1;33m(\u001b[0m\u001b[1;33m)\u001b[0m\u001b[1;31m# running the whole function for sql input\u001b[0m\u001b[1;33m\u001b[0m\u001b[1;33m\u001b[0m\u001b[0m\n\u001b[0m\u001b[0;32m      7\u001b[0m \u001b[0mend\u001b[0m \u001b[1;33m=\u001b[0m \u001b[0mtime\u001b[0m\u001b[1;33m.\u001b[0m\u001b[0mtime\u001b[0m\u001b[1;33m(\u001b[0m\u001b[1;33m)\u001b[0m\u001b[1;33m\u001b[0m\u001b[1;33m\u001b[0m\u001b[0m\n\u001b[0;32m      8\u001b[0m \u001b[0mprint\u001b[0m\u001b[1;33m(\u001b[0m\u001b[0mend\u001b[0m \u001b[1;33m-\u001b[0m \u001b[0mstart\u001b[0m\u001b[1;33m)\u001b[0m\u001b[1;33m\u001b[0m\u001b[1;33m\u001b[0m\u001b[0m\n",
      "\u001b[1;32m<ipython-input-3-596403230ea8>\u001b[0m in \u001b[0;36mfinal_result_from_sql\u001b[1;34m()\u001b[0m\n\u001b[0;32m     22\u001b[0m     \u001b[1;32mfor\u001b[0m \u001b[0mi\u001b[0m \u001b[1;32min\u001b[0m \u001b[0mrange\u001b[0m\u001b[1;33m(\u001b[0m\u001b[0mlen\u001b[0m\u001b[1;33m(\u001b[0m\u001b[0msysname_arr\u001b[0m\u001b[1;33m)\u001b[0m\u001b[1;33m)\u001b[0m\u001b[1;33m:\u001b[0m \u001b[1;31m# looping sysname  for the script\u001b[0m\u001b[1;33m\u001b[0m\u001b[1;33m\u001b[0m\u001b[0m\n\u001b[0;32m     23\u001b[0m         \u001b[0msysname_value\u001b[0m \u001b[1;33m=\u001b[0m \u001b[0msysname_arr\u001b[0m\u001b[1;33m[\u001b[0m\u001b[0mi\u001b[0m\u001b[1;33m]\u001b[0m\u001b[1;33m\u001b[0m\u001b[1;33m\u001b[0m\u001b[0m\n\u001b[1;32m---> 24\u001b[1;33m         \u001b[0mdf_read\u001b[0m \u001b[1;33m=\u001b[0m \u001b[0msql_reading\u001b[0m\u001b[1;33m(\u001b[0m\u001b[1;33m)\u001b[0m \u001b[1;31m# calling the function sql_reading()\u001b[0m\u001b[1;33m\u001b[0m\u001b[1;33m\u001b[0m\u001b[0m\n\u001b[0m\u001b[0;32m     25\u001b[0m         \u001b[1;32mif\u001b[0m \u001b[0mdf_read\u001b[0m\u001b[1;33m.\u001b[0m\u001b[0mshape\u001b[0m\u001b[1;33m[\u001b[0m\u001b[1;36m0\u001b[0m\u001b[1;33m]\u001b[0m\u001b[1;33m==\u001b[0m\u001b[1;36m0\u001b[0m\u001b[1;33m:\u001b[0m\u001b[1;33m\u001b[0m\u001b[1;33m\u001b[0m\u001b[0m\n\u001b[0;32m     26\u001b[0m             \u001b[0mprint\u001b[0m\u001b[1;33m(\u001b[0m\u001b[0msysname_value\u001b[0m\u001b[1;33m,\u001b[0m\u001b[1;34m' has no data!'\u001b[0m\u001b[1;33m)\u001b[0m\u001b[1;33m\u001b[0m\u001b[1;33m\u001b[0m\u001b[0m\n",
      "\u001b[1;32m<ipython-input-2-6c41d1df03aa>\u001b[0m in \u001b[0;36msql_reading\u001b[1;34m()\u001b[0m\n\u001b[0;32m      4\u001b[0m     \u001b[1;31m# connect to the PostgreSQL server\u001b[0m\u001b[1;33m\u001b[0m\u001b[1;33m\u001b[0m\u001b[1;33m\u001b[0m\u001b[0m\n\u001b[0;32m      5\u001b[0m     \u001b[0mprint\u001b[0m\u001b[1;33m(\u001b[0m\u001b[1;34m'Connecting to the PostgreSQL database...'\u001b[0m\u001b[1;33m)\u001b[0m\u001b[1;33m\u001b[0m\u001b[1;33m\u001b[0m\u001b[0m\n\u001b[1;32m----> 6\u001b[1;33m     \u001b[0mengine\u001b[0m \u001b[1;33m=\u001b[0m \u001b[0mcreate_engine\u001b[0m\u001b[1;33m(\u001b[0m\u001b[1;33m)\u001b[0m\u001b[1;33m\u001b[0m\u001b[1;33m\u001b[0m\u001b[0m\n\u001b[0m\u001b[0;32m      7\u001b[0m     df = pd.read_sql(\n\u001b[0;32m      8\u001b[0m         \"SELECT sysname, str_id, esm_v, datetime FROM battery_string WHERE sysname = 'GC01' and datetime between '2021-06-30 12:40:00' and '2021-06-30 16:40:00';\", engine) \n",
      "\u001b[1;31mTypeError\u001b[0m: create_engine() missing 1 required positional argument: 'url'"
     ]
    }
   ],
   "source": [
    "import time\n",
    "import pyforest\n",
    "from datetime import timedelta\n",
    "df = pd.DataFrame()\n",
    "start = time.time()\n",
    "df=final_result_from_sql()# running the whole function for sql input\n",
    "end = time.time()\n",
    "print(end - start)"
   ]
  },
  {
   "cell_type": "code",
   "execution_count": 59,
   "metadata": {},
   "outputs": [
    {
     "data": {
      "application/javascript": [
       "\n",
       "        if (window._pyforest_update_imports_cell) { window._pyforest_update_imports_cell('import os\\nimport numpy as np\\nimport matplotlib.pyplot as plt\\nimport pandas as pd'); }\n",
       "    "
      ],
      "text/plain": [
       "<IPython.core.display.Javascript object>"
      ]
     },
     "metadata": {},
     "output_type": "display_data"
    },
    {
     "data": {
      "application/javascript": [
       "\n",
       "        if (window._pyforest_update_imports_cell) { window._pyforest_update_imports_cell('import os\\nimport numpy as np\\nimport matplotlib.pyplot as plt\\nimport pandas as pd'); }\n",
       "    "
      ],
      "text/plain": [
       "<IPython.core.display.Javascript object>"
      ]
     },
     "metadata": {},
     "output_type": "display_data"
    },
    {
     "data": {
      "application/javascript": [
       "\n",
       "        if (window._pyforest_update_imports_cell) { window._pyforest_update_imports_cell('import os\\nimport numpy as np\\nimport matplotlib.pyplot as plt\\nimport pandas as pd'); }\n",
       "    "
      ],
      "text/plain": [
       "<IPython.core.display.Javascript object>"
      ]
     },
     "metadata": {},
     "output_type": "display_data"
    },
    {
     "data": {
      "application/javascript": [
       "\n",
       "        if (window._pyforest_update_imports_cell) { window._pyforest_update_imports_cell('import os\\nimport numpy as np\\nimport matplotlib.pyplot as plt\\nimport pandas as pd'); }\n",
       "    "
      ],
      "text/plain": [
       "<IPython.core.display.Javascript object>"
      ]
     },
     "metadata": {},
     "output_type": "display_data"
    },
    {
     "data": {
      "application/javascript": [
       "\n",
       "        if (window._pyforest_update_imports_cell) { window._pyforest_update_imports_cell('import os\\nimport numpy as np\\nimport matplotlib.pyplot as plt\\nimport pandas as pd'); }\n",
       "    "
      ],
      "text/plain": [
       "<IPython.core.display.Javascript object>"
      ]
     },
     "metadata": {},
     "output_type": "display_data"
    },
    {
     "data": {
      "application/javascript": [
       "\n",
       "        if (window._pyforest_update_imports_cell) { window._pyforest_update_imports_cell('import os\\nimport numpy as np\\nimport matplotlib.pyplot as plt\\nimport pandas as pd'); }\n",
       "    "
      ],
      "text/plain": [
       "<IPython.core.display.Javascript object>"
      ]
     },
     "metadata": {},
     "output_type": "display_data"
    },
    {
     "name": "stdout",
     "output_type": "stream",
     "text": [
      "cw01 is read!\n"
     ]
    },
    {
     "data": {
      "application/javascript": [
       "\n",
       "        if (window._pyforest_update_imports_cell) { window._pyforest_update_imports_cell('import os\\nimport numpy as np\\nimport matplotlib.pyplot as plt\\nimport pandas as pd'); }\n",
       "    "
      ],
      "text/plain": [
       "<IPython.core.display.Javascript object>"
      ]
     },
     "metadata": {},
     "output_type": "display_data"
    },
    {
     "data": {
      "application/javascript": [
       "\n",
       "        if (window._pyforest_update_imports_cell) { window._pyforest_update_imports_cell('import os\\nimport numpy as np\\nimport matplotlib.pyplot as plt\\nimport pandas as pd'); }\n",
       "    "
      ],
      "text/plain": [
       "<IPython.core.display.Javascript object>"
      ]
     },
     "metadata": {},
     "output_type": "display_data"
    },
    {
     "name": "stdout",
     "output_type": "stream",
     "text": [
      "Size:  1048575\n"
     ]
    },
    {
     "data": {
      "application/javascript": [
       "\n",
       "        if (window._pyforest_update_imports_cell) { window._pyforest_update_imports_cell('import os\\nimport numpy as np\\nimport matplotlib.pyplot as plt\\nimport pandas as pd'); }\n",
       "    "
      ],
      "text/plain": [
       "<IPython.core.display.Javascript object>"
      ]
     },
     "metadata": {},
     "output_type": "display_data"
    },
    {
     "data": {
      "application/javascript": [
       "\n",
       "        if (window._pyforest_update_imports_cell) { window._pyforest_update_imports_cell('import os\\nimport numpy as np\\nimport matplotlib.pyplot as plt\\nimport pandas as pd'); }\n",
       "    "
      ],
      "text/plain": [
       "<IPython.core.display.Javascript object>"
      ]
     },
     "metadata": {},
     "output_type": "display_data"
    },
    {
     "data": {
      "application/javascript": [
       "\n",
       "        if (window._pyforest_update_imports_cell) { window._pyforest_update_imports_cell('import os\\nimport numpy as np\\nimport matplotlib.pyplot as plt\\nimport pandas as pd'); }\n",
       "    "
      ],
      "text/plain": [
       "<IPython.core.display.Javascript object>"
      ]
     },
     "metadata": {},
     "output_type": "display_data"
    },
    {
     "data": {
      "application/javascript": [
       "\n",
       "        if (window._pyforest_update_imports_cell) { window._pyforest_update_imports_cell('import os\\nimport numpy as np\\nimport matplotlib.pyplot as plt\\nimport pandas as pd'); }\n",
       "    "
      ],
      "text/plain": [
       "<IPython.core.display.Javascript object>"
      ]
     },
     "metadata": {},
     "output_type": "display_data"
    },
    {
     "name": "stderr",
     "output_type": "stream",
     "text": [
      "C:\\Users\\abylk\\anaconda3\\lib\\site-packages\\pandas\\core\\indexing.py:1637: SettingWithCopyWarning: \n",
      "A value is trying to be set on a copy of a slice from a DataFrame\n",
      "\n",
      "See the caveats in the documentation: https://pandas.pydata.org/pandas-docs/stable/user_guide/indexing.html#returning-a-view-versus-a-copy\n",
      "  self._setitem_single_block(indexer, value, name)\n"
     ]
    },
    {
     "data": {
      "application/javascript": [
       "\n",
       "        if (window._pyforest_update_imports_cell) { window._pyforest_update_imports_cell('import os\\nimport numpy as np\\nimport matplotlib.pyplot as plt\\nimport pandas as pd'); }\n",
       "    "
      ],
      "text/plain": [
       "<IPython.core.display.Javascript object>"
      ]
     },
     "metadata": {},
     "output_type": "display_data"
    },
    {
     "data": {
      "application/javascript": [
       "\n",
       "        if (window._pyforest_update_imports_cell) { window._pyforest_update_imports_cell('import os\\nimport numpy as np\\nimport matplotlib.pyplot as plt\\nimport pandas as pd'); }\n",
       "    "
      ],
      "text/plain": [
       "<IPython.core.display.Javascript object>"
      ]
     },
     "metadata": {},
     "output_type": "display_data"
    },
    {
     "data": {
      "application/javascript": [
       "\n",
       "        if (window._pyforest_update_imports_cell) { window._pyforest_update_imports_cell('import os\\nimport numpy as np\\nimport matplotlib.pyplot as plt\\nimport pandas as pd'); }\n",
       "    "
      ],
      "text/plain": [
       "<IPython.core.display.Javascript object>"
      ]
     },
     "metadata": {},
     "output_type": "display_data"
    },
    {
     "data": {
      "application/javascript": [
       "\n",
       "        if (window._pyforest_update_imports_cell) { window._pyforest_update_imports_cell('import os\\nimport numpy as np\\nimport matplotlib.pyplot as plt\\nimport pandas as pd'); }\n",
       "    "
      ],
      "text/plain": [
       "<IPython.core.display.Javascript object>"
      ]
     },
     "metadata": {},
     "output_type": "display_data"
    },
    {
     "name": "stdout",
     "output_type": "stream",
     "text": [
      "CSV file of < cw01 > is ready!\n"
     ]
    },
    {
     "data": {
      "application/javascript": [
       "\n",
       "        if (window._pyforest_update_imports_cell) { window._pyforest_update_imports_cell('import os\\nimport numpy as np\\nimport matplotlib.pyplot as plt\\nimport pandas as pd'); }\n",
       "    "
      ],
      "text/plain": [
       "<IPython.core.display.Javascript object>"
      ]
     },
     "metadata": {},
     "output_type": "display_data"
    },
    {
     "data": {
      "application/javascript": [
       "\n",
       "        if (window._pyforest_update_imports_cell) { window._pyforest_update_imports_cell('import os\\nimport numpy as np\\nimport matplotlib.pyplot as plt\\nimport pandas as pd'); }\n",
       "    "
      ],
      "text/plain": [
       "<IPython.core.display.Javascript object>"
      ]
     },
     "metadata": {},
     "output_type": "display_data"
    },
    {
     "name": "stdout",
     "output_type": "stream",
     "text": [
      "gc01 is read!\n"
     ]
    },
    {
     "data": {
      "application/javascript": [
       "\n",
       "        if (window._pyforest_update_imports_cell) { window._pyforest_update_imports_cell('import os\\nimport numpy as np\\nimport matplotlib.pyplot as plt\\nimport pandas as pd'); }\n",
       "    "
      ],
      "text/plain": [
       "<IPython.core.display.Javascript object>"
      ]
     },
     "metadata": {},
     "output_type": "display_data"
    },
    {
     "data": {
      "application/javascript": [
       "\n",
       "        if (window._pyforest_update_imports_cell) { window._pyforest_update_imports_cell('import os\\nimport numpy as np\\nimport matplotlib.pyplot as plt\\nimport pandas as pd'); }\n",
       "    "
      ],
      "text/plain": [
       "<IPython.core.display.Javascript object>"
      ]
     },
     "metadata": {},
     "output_type": "display_data"
    },
    {
     "name": "stdout",
     "output_type": "stream",
     "text": [
      "Size:  4575653\n"
     ]
    },
    {
     "data": {
      "application/javascript": [
       "\n",
       "        if (window._pyforest_update_imports_cell) { window._pyforest_update_imports_cell('import os\\nimport numpy as np\\nimport matplotlib.pyplot as plt\\nimport pandas as pd'); }\n",
       "    "
      ],
      "text/plain": [
       "<IPython.core.display.Javascript object>"
      ]
     },
     "metadata": {},
     "output_type": "display_data"
    },
    {
     "data": {
      "application/javascript": [
       "\n",
       "        if (window._pyforest_update_imports_cell) { window._pyforest_update_imports_cell('import os\\nimport numpy as np\\nimport matplotlib.pyplot as plt\\nimport pandas as pd'); }\n",
       "    "
      ],
      "text/plain": [
       "<IPython.core.display.Javascript object>"
      ]
     },
     "metadata": {},
     "output_type": "display_data"
    },
    {
     "data": {
      "application/javascript": [
       "\n",
       "        if (window._pyforest_update_imports_cell) { window._pyforest_update_imports_cell('import os\\nimport numpy as np\\nimport matplotlib.pyplot as plt\\nimport pandas as pd'); }\n",
       "    "
      ],
      "text/plain": [
       "<IPython.core.display.Javascript object>"
      ]
     },
     "metadata": {},
     "output_type": "display_data"
    },
    {
     "data": {
      "application/javascript": [
       "\n",
       "        if (window._pyforest_update_imports_cell) { window._pyforest_update_imports_cell('import os\\nimport numpy as np\\nimport matplotlib.pyplot as plt\\nimport pandas as pd'); }\n",
       "    "
      ],
      "text/plain": [
       "<IPython.core.display.Javascript object>"
      ]
     },
     "metadata": {},
     "output_type": "display_data"
    },
    {
     "name": "stderr",
     "output_type": "stream",
     "text": [
      "C:\\Users\\abylk\\anaconda3\\lib\\site-packages\\pandas\\core\\indexing.py:1637: SettingWithCopyWarning: \n",
      "A value is trying to be set on a copy of a slice from a DataFrame\n",
      "\n",
      "See the caveats in the documentation: https://pandas.pydata.org/pandas-docs/stable/user_guide/indexing.html#returning-a-view-versus-a-copy\n",
      "  self._setitem_single_block(indexer, value, name)\n"
     ]
    },
    {
     "data": {
      "application/javascript": [
       "\n",
       "        if (window._pyforest_update_imports_cell) { window._pyforest_update_imports_cell('import os\\nimport numpy as np\\nimport matplotlib.pyplot as plt\\nimport pandas as pd'); }\n",
       "    "
      ],
      "text/plain": [
       "<IPython.core.display.Javascript object>"
      ]
     },
     "metadata": {},
     "output_type": "display_data"
    },
    {
     "data": {
      "application/javascript": [
       "\n",
       "        if (window._pyforest_update_imports_cell) { window._pyforest_update_imports_cell('import os\\nimport numpy as np\\nimport matplotlib.pyplot as plt\\nimport pandas as pd'); }\n",
       "    "
      ],
      "text/plain": [
       "<IPython.core.display.Javascript object>"
      ]
     },
     "metadata": {},
     "output_type": "display_data"
    },
    {
     "data": {
      "application/javascript": [
       "\n",
       "        if (window._pyforest_update_imports_cell) { window._pyforest_update_imports_cell('import os\\nimport numpy as np\\nimport matplotlib.pyplot as plt\\nimport pandas as pd'); }\n",
       "    "
      ],
      "text/plain": [
       "<IPython.core.display.Javascript object>"
      ]
     },
     "metadata": {},
     "output_type": "display_data"
    },
    {
     "data": {
      "application/javascript": [
       "\n",
       "        if (window._pyforest_update_imports_cell) { window._pyforest_update_imports_cell('import os\\nimport numpy as np\\nimport matplotlib.pyplot as plt\\nimport pandas as pd'); }\n",
       "    "
      ],
      "text/plain": [
       "<IPython.core.display.Javascript object>"
      ]
     },
     "metadata": {},
     "output_type": "display_data"
    },
    {
     "name": "stdout",
     "output_type": "stream",
     "text": [
      "CSV file of < gc01 > is ready!\n"
     ]
    },
    {
     "data": {
      "application/javascript": [
       "\n",
       "        if (window._pyforest_update_imports_cell) { window._pyforest_update_imports_cell('import os\\nimport numpy as np\\nimport matplotlib.pyplot as plt\\nimport pandas as pd'); }\n",
       "    "
      ],
      "text/plain": [
       "<IPython.core.display.Javascript object>"
      ]
     },
     "metadata": {},
     "output_type": "display_data"
    },
    {
     "data": {
      "application/javascript": [
       "\n",
       "        if (window._pyforest_update_imports_cell) { window._pyforest_update_imports_cell('import os\\nimport numpy as np\\nimport matplotlib.pyplot as plt\\nimport pandas as pd'); }\n",
       "    "
      ],
      "text/plain": [
       "<IPython.core.display.Javascript object>"
      ]
     },
     "metadata": {},
     "output_type": "display_data"
    },
    {
     "name": "stdout",
     "output_type": "stream",
     "text": [
      "hh01 is read!\n"
     ]
    },
    {
     "data": {
      "application/javascript": [
       "\n",
       "        if (window._pyforest_update_imports_cell) { window._pyforest_update_imports_cell('import os\\nimport numpy as np\\nimport matplotlib.pyplot as plt\\nimport pandas as pd'); }\n",
       "    "
      ],
      "text/plain": [
       "<IPython.core.display.Javascript object>"
      ]
     },
     "metadata": {},
     "output_type": "display_data"
    },
    {
     "data": {
      "application/javascript": [
       "\n",
       "        if (window._pyforest_update_imports_cell) { window._pyforest_update_imports_cell('import os\\nimport numpy as np\\nimport matplotlib.pyplot as plt\\nimport pandas as pd'); }\n",
       "    "
      ],
      "text/plain": [
       "<IPython.core.display.Javascript object>"
      ]
     },
     "metadata": {},
     "output_type": "display_data"
    },
    {
     "name": "stdout",
     "output_type": "stream",
     "text": [
      "Size:  5887277\n"
     ]
    },
    {
     "data": {
      "application/javascript": [
       "\n",
       "        if (window._pyforest_update_imports_cell) { window._pyforest_update_imports_cell('import os\\nimport numpy as np\\nimport matplotlib.pyplot as plt\\nimport pandas as pd'); }\n",
       "    "
      ],
      "text/plain": [
       "<IPython.core.display.Javascript object>"
      ]
     },
     "metadata": {},
     "output_type": "display_data"
    },
    {
     "data": {
      "application/javascript": [
       "\n",
       "        if (window._pyforest_update_imports_cell) { window._pyforest_update_imports_cell('import os\\nimport numpy as np\\nimport matplotlib.pyplot as plt\\nimport pandas as pd'); }\n",
       "    "
      ],
      "text/plain": [
       "<IPython.core.display.Javascript object>"
      ]
     },
     "metadata": {},
     "output_type": "display_data"
    },
    {
     "data": {
      "application/javascript": [
       "\n",
       "        if (window._pyforest_update_imports_cell) { window._pyforest_update_imports_cell('import os\\nimport numpy as np\\nimport matplotlib.pyplot as plt\\nimport pandas as pd'); }\n",
       "    "
      ],
      "text/plain": [
       "<IPython.core.display.Javascript object>"
      ]
     },
     "metadata": {},
     "output_type": "display_data"
    },
    {
     "data": {
      "application/javascript": [
       "\n",
       "        if (window._pyforest_update_imports_cell) { window._pyforest_update_imports_cell('import os\\nimport numpy as np\\nimport matplotlib.pyplot as plt\\nimport pandas as pd'); }\n",
       "    "
      ],
      "text/plain": [
       "<IPython.core.display.Javascript object>"
      ]
     },
     "metadata": {},
     "output_type": "display_data"
    },
    {
     "name": "stderr",
     "output_type": "stream",
     "text": [
      "C:\\Users\\abylk\\anaconda3\\lib\\site-packages\\pandas\\core\\indexing.py:1637: SettingWithCopyWarning: \n",
      "A value is trying to be set on a copy of a slice from a DataFrame\n",
      "\n",
      "See the caveats in the documentation: https://pandas.pydata.org/pandas-docs/stable/user_guide/indexing.html#returning-a-view-versus-a-copy\n",
      "  self._setitem_single_block(indexer, value, name)\n"
     ]
    },
    {
     "data": {
      "application/javascript": [
       "\n",
       "        if (window._pyforest_update_imports_cell) { window._pyforest_update_imports_cell('import os\\nimport numpy as np\\nimport matplotlib.pyplot as plt\\nimport pandas as pd'); }\n",
       "    "
      ],
      "text/plain": [
       "<IPython.core.display.Javascript object>"
      ]
     },
     "metadata": {},
     "output_type": "display_data"
    },
    {
     "data": {
      "application/javascript": [
       "\n",
       "        if (window._pyforest_update_imports_cell) { window._pyforest_update_imports_cell('import os\\nimport numpy as np\\nimport matplotlib.pyplot as plt\\nimport pandas as pd'); }\n",
       "    "
      ],
      "text/plain": [
       "<IPython.core.display.Javascript object>"
      ]
     },
     "metadata": {},
     "output_type": "display_data"
    },
    {
     "data": {
      "application/javascript": [
       "\n",
       "        if (window._pyforest_update_imports_cell) { window._pyforest_update_imports_cell('import os\\nimport numpy as np\\nimport matplotlib.pyplot as plt\\nimport pandas as pd'); }\n",
       "    "
      ],
      "text/plain": [
       "<IPython.core.display.Javascript object>"
      ]
     },
     "metadata": {},
     "output_type": "display_data"
    },
    {
     "data": {
      "application/javascript": [
       "\n",
       "        if (window._pyforest_update_imports_cell) { window._pyforest_update_imports_cell('import os\\nimport numpy as np\\nimport matplotlib.pyplot as plt\\nimport pandas as pd'); }\n",
       "    "
      ],
      "text/plain": [
       "<IPython.core.display.Javascript object>"
      ]
     },
     "metadata": {},
     "output_type": "display_data"
    },
    {
     "name": "stdout",
     "output_type": "stream",
     "text": [
      "CSV file of < hh01 > is ready!\n"
     ]
    },
    {
     "data": {
      "application/javascript": [
       "\n",
       "        if (window._pyforest_update_imports_cell) { window._pyforest_update_imports_cell('import os\\nimport numpy as np\\nimport matplotlib.pyplot as plt\\nimport pandas as pd'); }\n",
       "    "
      ],
      "text/plain": [
       "<IPython.core.display.Javascript object>"
      ]
     },
     "metadata": {},
     "output_type": "display_data"
    },
    {
     "data": {
      "application/javascript": [
       "\n",
       "        if (window._pyforest_update_imports_cell) { window._pyforest_update_imports_cell('import os\\nimport numpy as np\\nimport matplotlib.pyplot as plt\\nimport pandas as pd'); }\n",
       "    "
      ],
      "text/plain": [
       "<IPython.core.display.Javascript object>"
      ]
     },
     "metadata": {},
     "output_type": "display_data"
    },
    {
     "name": "stdout",
     "output_type": "stream",
     "text": [
      "rd02 is read!\n"
     ]
    },
    {
     "data": {
      "application/javascript": [
       "\n",
       "        if (window._pyforest_update_imports_cell) { window._pyforest_update_imports_cell('import os\\nimport numpy as np\\nimport matplotlib.pyplot as plt\\nimport pandas as pd'); }\n",
       "    "
      ],
      "text/plain": [
       "<IPython.core.display.Javascript object>"
      ]
     },
     "metadata": {},
     "output_type": "display_data"
    },
    {
     "data": {
      "application/javascript": [
       "\n",
       "        if (window._pyforest_update_imports_cell) { window._pyforest_update_imports_cell('import os\\nimport numpy as np\\nimport matplotlib.pyplot as plt\\nimport pandas as pd'); }\n",
       "    "
      ],
      "text/plain": [
       "<IPython.core.display.Javascript object>"
      ]
     },
     "metadata": {},
     "output_type": "display_data"
    },
    {
     "name": "stdout",
     "output_type": "stream",
     "text": [
      "Size:  1958272\n"
     ]
    },
    {
     "data": {
      "application/javascript": [
       "\n",
       "        if (window._pyforest_update_imports_cell) { window._pyforest_update_imports_cell('import os\\nimport numpy as np\\nimport matplotlib.pyplot as plt\\nimport pandas as pd'); }\n",
       "    "
      ],
      "text/plain": [
       "<IPython.core.display.Javascript object>"
      ]
     },
     "metadata": {},
     "output_type": "display_data"
    },
    {
     "data": {
      "application/javascript": [
       "\n",
       "        if (window._pyforest_update_imports_cell) { window._pyforest_update_imports_cell('import os\\nimport numpy as np\\nimport matplotlib.pyplot as plt\\nimport pandas as pd'); }\n",
       "    "
      ],
      "text/plain": [
       "<IPython.core.display.Javascript object>"
      ]
     },
     "metadata": {},
     "output_type": "display_data"
    },
    {
     "data": {
      "application/javascript": [
       "\n",
       "        if (window._pyforest_update_imports_cell) { window._pyforest_update_imports_cell('import os\\nimport numpy as np\\nimport matplotlib.pyplot as plt\\nimport pandas as pd'); }\n",
       "    "
      ],
      "text/plain": [
       "<IPython.core.display.Javascript object>"
      ]
     },
     "metadata": {},
     "output_type": "display_data"
    },
    {
     "data": {
      "application/javascript": [
       "\n",
       "        if (window._pyforest_update_imports_cell) { window._pyforest_update_imports_cell('import os\\nimport numpy as np\\nimport matplotlib.pyplot as plt\\nimport pandas as pd'); }\n",
       "    "
      ],
      "text/plain": [
       "<IPython.core.display.Javascript object>"
      ]
     },
     "metadata": {},
     "output_type": "display_data"
    },
    {
     "name": "stderr",
     "output_type": "stream",
     "text": [
      "C:\\Users\\abylk\\anaconda3\\lib\\site-packages\\pandas\\core\\indexing.py:1637: SettingWithCopyWarning: \n",
      "A value is trying to be set on a copy of a slice from a DataFrame\n",
      "\n",
      "See the caveats in the documentation: https://pandas.pydata.org/pandas-docs/stable/user_guide/indexing.html#returning-a-view-versus-a-copy\n",
      "  self._setitem_single_block(indexer, value, name)\n"
     ]
    },
    {
     "data": {
      "application/javascript": [
       "\n",
       "        if (window._pyforest_update_imports_cell) { window._pyforest_update_imports_cell('import os\\nimport numpy as np\\nimport matplotlib.pyplot as plt\\nimport pandas as pd'); }\n",
       "    "
      ],
      "text/plain": [
       "<IPython.core.display.Javascript object>"
      ]
     },
     "metadata": {},
     "output_type": "display_data"
    },
    {
     "data": {
      "application/javascript": [
       "\n",
       "        if (window._pyforest_update_imports_cell) { window._pyforest_update_imports_cell('import os\\nimport numpy as np\\nimport matplotlib.pyplot as plt\\nimport pandas as pd'); }\n",
       "    "
      ],
      "text/plain": [
       "<IPython.core.display.Javascript object>"
      ]
     },
     "metadata": {},
     "output_type": "display_data"
    },
    {
     "data": {
      "application/javascript": [
       "\n",
       "        if (window._pyforest_update_imports_cell) { window._pyforest_update_imports_cell('import os\\nimport numpy as np\\nimport matplotlib.pyplot as plt\\nimport pandas as pd'); }\n",
       "    "
      ],
      "text/plain": [
       "<IPython.core.display.Javascript object>"
      ]
     },
     "metadata": {},
     "output_type": "display_data"
    },
    {
     "data": {
      "application/javascript": [
       "\n",
       "        if (window._pyforest_update_imports_cell) { window._pyforest_update_imports_cell('import os\\nimport numpy as np\\nimport matplotlib.pyplot as plt\\nimport pandas as pd'); }\n",
       "    "
      ],
      "text/plain": [
       "<IPython.core.display.Javascript object>"
      ]
     },
     "metadata": {},
     "output_type": "display_data"
    },
    {
     "name": "stdout",
     "output_type": "stream",
     "text": [
      "CSV file of < rd02 > is ready!\n"
     ]
    },
    {
     "data": {
      "application/javascript": [
       "\n",
       "        if (window._pyforest_update_imports_cell) { window._pyforest_update_imports_cell('import os\\nimport numpy as np\\nimport matplotlib.pyplot as plt\\nimport pandas as pd'); }\n",
       "    "
      ],
      "text/plain": [
       "<IPython.core.display.Javascript object>"
      ]
     },
     "metadata": {},
     "output_type": "display_data"
    },
    {
     "data": {
      "application/javascript": [
       "\n",
       "        if (window._pyforest_update_imports_cell) { window._pyforest_update_imports_cell('import os\\nimport numpy as np\\nimport matplotlib.pyplot as plt\\nimport pandas as pd'); }\n",
       "    "
      ],
      "text/plain": [
       "<IPython.core.display.Javascript object>"
      ]
     },
     "metadata": {},
     "output_type": "display_data"
    },
    {
     "data": {
      "application/javascript": [
       "\n",
       "        if (window._pyforest_update_imports_cell) { window._pyforest_update_imports_cell('import os\\nimport numpy as np\\nimport matplotlib.pyplot as plt\\nimport pandas as pd'); }\n",
       "    "
      ],
      "text/plain": [
       "<IPython.core.display.Javascript object>"
      ]
     },
     "metadata": {},
     "output_type": "display_data"
    },
    {
     "data": {
      "application/javascript": [
       "\n",
       "        if (window._pyforest_update_imports_cell) { window._pyforest_update_imports_cell('import os\\nimport numpy as np\\nimport matplotlib.pyplot as plt\\nimport pandas as pd'); }\n",
       "    "
      ],
      "text/plain": [
       "<IPython.core.display.Javascript object>"
      ]
     },
     "metadata": {},
     "output_type": "display_data"
    },
    {
     "data": {
      "application/javascript": [
       "\n",
       "        if (window._pyforest_update_imports_cell) { window._pyforest_update_imports_cell('import os\\nimport numpy as np\\nimport matplotlib.pyplot as plt\\nimport pandas as pd'); }\n",
       "    "
      ],
      "text/plain": [
       "<IPython.core.display.Javascript object>"
      ]
     },
     "metadata": {},
     "output_type": "display_data"
    },
    {
     "data": {
      "image/png": "[encoded data removed]",
      "text/plain": [
       "<Figure size 864x576 with 1 Axes>"
      ]
     },
     "metadata": {},
     "output_type": "display_data"
    },
    {
     "name": "stdout",
     "output_type": "stream",
     "text": [
      "429.0827476978302\n"
     ]
    }
   ],
   "source": [
    "import time\n",
    "import pyforest\n",
    "from datetime import timedelta\n",
    "df = pd.DataFrame()\n",
    "start = time.time()\n",
    "df=final_result_from_csv()# running the whole function for sql input\n",
    "end = time.time()\n",
    "print(end - start)"
   ]
  },
  {
   "cell_type": "code",
   "execution_count": 70,
   "metadata": {},
   "outputs": [
    {
     "data": {
      "application/javascript": [
       "\n",
       "        if (window._pyforest_update_imports_cell) { window._pyforest_update_imports_cell('import os\\nimport numpy as np\\nimport matplotlib.pyplot as plt\\nimport pandas as pd'); }\n",
       "    "
      ],
      "text/plain": [
       "<IPython.core.display.Javascript object>"
      ]
     },
     "metadata": {},
     "output_type": "display_data"
    },
    {
     "data": {
      "application/javascript": [
       "\n",
       "        if (window._pyforest_update_imports_cell) { window._pyforest_update_imports_cell('import os\\nimport numpy as np\\nimport matplotlib.pyplot as plt\\nimport pandas as pd'); }\n",
       "    "
      ],
      "text/plain": [
       "<IPython.core.display.Javascript object>"
      ]
     },
     "metadata": {},
     "output_type": "display_data"
    },
    {
     "data": {
      "application/javascript": [
       "\n",
       "        if (window._pyforest_update_imports_cell) { window._pyforest_update_imports_cell('import os\\nimport numpy as np\\nimport matplotlib.pyplot as plt\\nimport pandas as pd'); }\n",
       "    "
      ],
      "text/plain": [
       "<IPython.core.display.Javascript object>"
      ]
     },
     "metadata": {},
     "output_type": "display_data"
    },
    {
     "data": {
      "application/javascript": [
       "\n",
       "        if (window._pyforest_update_imports_cell) { window._pyforest_update_imports_cell('import os\\nimport numpy as np\\nimport matplotlib.pyplot as plt\\nimport pandas as pd'); }\n",
       "    "
      ],
      "text/plain": [
       "<IPython.core.display.Javascript object>"
      ]
     },
     "metadata": {},
     "output_type": "display_data"
    },
    {
     "data": {
      "application/javascript": [
       "\n",
       "        if (window._pyforest_update_imports_cell) { window._pyforest_update_imports_cell('import os\\nimport numpy as np\\nimport matplotlib.pyplot as plt\\nimport pandas as pd'); }\n",
       "    "
      ],
      "text/plain": [
       "<IPython.core.display.Javascript object>"
      ]
     },
     "metadata": {},
     "output_type": "display_data"
    },
    {
     "data": {
      "application/javascript": [
       "\n",
       "        if (window._pyforest_update_imports_cell) { window._pyforest_update_imports_cell('import os\\nimport numpy as np\\nimport matplotlib.pyplot as plt\\nimport pandas as pd'); }\n",
       "    "
      ],
      "text/plain": [
       "<IPython.core.display.Javascript object>"
      ]
     },
     "metadata": {},
     "output_type": "display_data"
    },
    {
     "name": "stdout",
     "output_type": "stream",
     "text": [
      "ae01  has no data or absent!\n"
     ]
    },
    {
     "data": {
      "application/javascript": [
       "\n",
       "        if (window._pyforest_update_imports_cell) { window._pyforest_update_imports_cell('import os\\nimport numpy as np\\nimport matplotlib.pyplot as plt\\nimport pandas as pd'); }\n",
       "    "
      ],
      "text/plain": [
       "<IPython.core.display.Javascript object>"
      ]
     },
     "metadata": {},
     "output_type": "display_data"
    },
    {
     "data": {
      "application/javascript": [
       "\n",
       "        if (window._pyforest_update_imports_cell) { window._pyforest_update_imports_cell('import os\\nimport numpy as np\\nimport matplotlib.pyplot as plt\\nimport pandas as pd'); }\n",
       "    "
      ],
      "text/plain": [
       "<IPython.core.display.Javascript object>"
      ]
     },
     "metadata": {},
     "output_type": "display_data"
    },
    {
     "name": "stdout",
     "output_type": "stream",
     "text": [
      "ag01  has no data or absent!\n"
     ]
    },
    {
     "data": {
      "application/javascript": [
       "\n",
       "        if (window._pyforest_update_imports_cell) { window._pyforest_update_imports_cell('import os\\nimport numpy as np\\nimport matplotlib.pyplot as plt\\nimport pandas as pd'); }\n",
       "    "
      ],
      "text/plain": [
       "<IPython.core.display.Javascript object>"
      ]
     },
     "metadata": {},
     "output_type": "display_data"
    },
    {
     "data": {
      "application/javascript": [
       "\n",
       "        if (window._pyforest_update_imports_cell) { window._pyforest_update_imports_cell('import os\\nimport numpy as np\\nimport matplotlib.pyplot as plt\\nimport pandas as pd'); }\n",
       "    "
      ],
      "text/plain": [
       "<IPython.core.display.Javascript object>"
      ]
     },
     "metadata": {},
     "output_type": "display_data"
    },
    {
     "name": "stdout",
     "output_type": "stream",
     "text": [
      "andie  has no data or absent!\n"
     ]
    },
    {
     "data": {
      "application/javascript": [
       "\n",
       "        if (window._pyforest_update_imports_cell) { window._pyforest_update_imports_cell('import os\\nimport numpy as np\\nimport matplotlib.pyplot as plt\\nimport pandas as pd'); }\n",
       "    "
      ],
      "text/plain": [
       "<IPython.core.display.Javascript object>"
      ]
     },
     "metadata": {},
     "output_type": "display_data"
    },
    {
     "data": {
      "application/javascript": [
       "\n",
       "        if (window._pyforest_update_imports_cell) { window._pyforest_update_imports_cell('import os\\nimport numpy as np\\nimport matplotlib.pyplot as plt\\nimport pandas as pd'); }\n",
       "    "
      ],
      "text/plain": [
       "<IPython.core.display.Javascript object>"
      ]
     },
     "metadata": {},
     "output_type": "display_data"
    },
    {
     "name": "stdout",
     "output_type": "stream",
     "text": [
      "bk01  has no data or absent!\n"
     ]
    },
    {
     "data": {
      "application/javascript": [
       "\n",
       "        if (window._pyforest_update_imports_cell) { window._pyforest_update_imports_cell('import os\\nimport numpy as np\\nimport matplotlib.pyplot as plt\\nimport pandas as pd'); }\n",
       "    "
      ],
      "text/plain": [
       "<IPython.core.display.Javascript object>"
      ]
     },
     "metadata": {},
     "output_type": "display_data"
    },
    {
     "data": {
      "application/javascript": [
       "\n",
       "        if (window._pyforest_update_imports_cell) { window._pyforest_update_imports_cell('import os\\nimport numpy as np\\nimport matplotlib.pyplot as plt\\nimport pandas as pd'); }\n",
       "    "
      ],
      "text/plain": [
       "<IPython.core.display.Javascript object>"
      ]
     },
     "metadata": {},
     "output_type": "display_data"
    },
    {
     "name": "stdout",
     "output_type": "stream",
     "text": [
      "bk02  has no data or absent!\n",
      "0.0249330997467041\n"
     ]
    }
   ],
   "source": [
    "import time\n",
    "import pyforest\n",
    "from datetime import timedelta\n",
    "df = pd.DataFrame()\n",
    "start = time.time()\n",
    "df=final_result_from_csv()# running the whole function for sql input\n",
    "end = time.time()\n",
    "print(end - start)"
   ]
  },
  {
   "cell_type": "code",
   "execution_count": null,
   "metadata": {},
   "outputs": [],
   "source": []
  },
  {
   "cell_type": "code",
   "execution_count": 17,
   "metadata": {},
   "outputs": [
    {
     "ename": "NameError",
     "evalue": "name 'get_client' is not defined",
     "output_type": "error",
     "traceback": [
      "\u001b[1;31m---------------------------------------------------------------------------\u001b[0m",
      "\u001b[1;31mNameError\u001b[0m                                 Traceback (most recent call last)",
      "\u001b[1;32m<ipython-input-17-959633787670>\u001b[0m in \u001b[0;36m<module>\u001b[1;34m\u001b[0m\n\u001b[1;32m----> 1\u001b[1;33m \u001b[0mrsd\u001b[0m \u001b[1;33m=\u001b[0m \u001b[0mget_client\u001b[0m\u001b[1;33m(\u001b[0m\u001b[1;34m'redshift-data'\u001b[0m\u001b[1;33m)\u001b[0m\u001b[1;33m\u001b[0m\u001b[1;33m\u001b[0m\u001b[0m\n\u001b[0m",
      "\u001b[1;31mNameError\u001b[0m: name 'get_client' is not defined"
     ]
    }
   ],
   "source": [
    "rsd = get_client('redshift-data')\n"
   ]
  },
  {
   "cell_type": "code",
   "execution_count": 14,
   "metadata": {},
   "outputs": [
    {
     "ename": "NameError",
     "evalue": "name 'rsd' is not defined",
     "output_type": "error",
     "traceback": [
      "\u001b[1;31m---------------------------------------------------------------------------\u001b[0m",
      "\u001b[1;31mNameError\u001b[0m                                 Traceback (most recent call last)",
      "\u001b[1;32m<ipython-input-14-0f50e9f8feee>\u001b[0m in \u001b[0;36m<module>\u001b[1;34m\u001b[0m\n\u001b[0;32m     28\u001b[0m         \u001b[1;32mreturn\u001b[0m \u001b[0mpost_process\u001b[0m\u001b[1;33m(\u001b[0m\u001b[0mmeta\u001b[0m\u001b[1;33m,\u001b[0m \u001b[0mrows\u001b[0m\u001b[1;33m)\u001b[0m\u001b[1;33m\u001b[0m\u001b[1;33m\u001b[0m\u001b[0m\n\u001b[0;32m     29\u001b[0m \u001b[1;33m\u001b[0m\u001b[0m\n\u001b[1;32m---> 30\u001b[1;33m \u001b[0mpf\u001b[0m\u001b[1;33m=\u001b[0m\u001b[0mquery\u001b[0m\u001b[1;33m(\u001b[0m\u001b[1;34m\"SELECT sysname, str_id, esm_v, datetime FROM battery_string WHERE sysname = 'GC01' and datetime between '2021-06-30 12:40:00' and '2021-06-30 16:40:00';\"\u001b[0m\u001b[1;33m)\u001b[0m\u001b[1;33m\u001b[0m\u001b[1;33m\u001b[0m\u001b[0m\n\u001b[0m\u001b[0;32m     31\u001b[0m \u001b[0mprint\u001b[0m\u001b[1;33m(\u001b[0m\u001b[0mpf\u001b[0m\u001b[1;33m)\u001b[0m\u001b[1;33m\u001b[0m\u001b[1;33m\u001b[0m\u001b[0m\n",
      "\u001b[1;32m<ipython-input-14-0f50e9f8feee>\u001b[0m in \u001b[0;36mquery\u001b[1;34m(sql, cluster, user, database)\u001b[0m\n\u001b[0;32m      9\u001b[0m     \u001b[1;32mreturn\u001b[0m \u001b[0mpd\u001b[0m\u001b[1;33m.\u001b[0m\u001b[0mDataFrame\u001b[0m\u001b[1;33m(\u001b[0m\u001b[0mrows\u001b[0m\u001b[1;33m,\u001b[0m \u001b[0mcolumns\u001b[0m\u001b[1;33m=\u001b[0m\u001b[0mcolumns\u001b[0m\u001b[1;33m)\u001b[0m\u001b[1;33m\u001b[0m\u001b[1;33m\u001b[0m\u001b[0m\n\u001b[0;32m     10\u001b[0m \u001b[1;32mdef\u001b[0m \u001b[0mquery\u001b[0m\u001b[1;33m(\u001b[0m\u001b[0msql\u001b[0m\u001b[1;33m,\u001b[0m \u001b[0mcluster\u001b[0m\u001b[1;33m=\u001b[0m\u001b[1;34m\"redshift-cluster-1\"\u001b[0m\u001b[1;33m,\u001b[0m \u001b[0muser\u001b[0m\u001b[1;33m=\u001b[0m\u001b[1;34m\"read\"\u001b[0m\u001b[1;33m,\u001b[0m \u001b[0mdatabase\u001b[0m\u001b[1;33m=\u001b[0m\u001b[1;34m\"dev\"\u001b[0m\u001b[1;33m)\u001b[0m\u001b[1;33m:\u001b[0m\u001b[1;33m\u001b[0m\u001b[1;33m\u001b[0m\u001b[0m\n\u001b[1;32m---> 11\u001b[1;33m     resp = rsd.execute_statement(\n\u001b[0m\u001b[0;32m     12\u001b[0m         \u001b[0mDatabase\u001b[0m\u001b[1;33m=\u001b[0m\u001b[0mdatabase\u001b[0m\u001b[1;33m,\u001b[0m\u001b[1;33m\u001b[0m\u001b[1;33m\u001b[0m\u001b[0m\n\u001b[0;32m     13\u001b[0m         \u001b[0mClusterIdentifier\u001b[0m\u001b[1;33m=\u001b[0m\u001b[0mcluster\u001b[0m\u001b[1;33m,\u001b[0m\u001b[1;33m\u001b[0m\u001b[1;33m\u001b[0m\u001b[0m\n",
      "\u001b[1;31mNameError\u001b[0m: name 'rsd' is not defined"
     ]
    }
   ],
   "source": [
    "def post_process(meta, records):\n",
    "    columns = [k[\"name\"] for k in meta]\n",
    "    rows = []\n",
    "    for r in records:\n",
    "        tmp = []\n",
    "        for c in r:\n",
    "            tmp.append(c[list(c.keys())[0]])\n",
    "        rows.append(tmp)\n",
    "    return pd.DataFrame(rows, columns=columns)\n",
    "def query(sql, cluster=\"redshift-cluster-1\", user=\"read\", database=\"dev\"):\n",
    "    resp = rsd.execute_statement(\n",
    "        Database=database,\n",
    "        ClusterIdentifier=cluster,\n",
    "        DbUser=user,\n",
    "        Sql=sql\n",
    "    )\n",
    "    qid = resp[\"Id\"]\n",
    "    print(qid)\n",
    "    desc = None\n",
    "    while True:\n",
    "        desc = rsd.describe_statement(Id=qid)\n",
    "        if desc[\"Status\"] == \"FINISHED\":\n",
    "            break\n",
    "            print(desc[\"ResultRows\"])\n",
    "    if desc and desc[\"ResultRows\"]  > 0:\n",
    "        result = rsd.get_statement_result(Id=qid)\n",
    "        rows, meta = result[\"Records\"], result[\"ColumnMetadata\"]\n",
    "        return post_process(meta, rows)\n",
    "\n",
    "pf=query(\"SELECT sysname, str_id, esm_v, datetime FROM battery_string WHERE sysname = 'GC01' and datetime between '2021-06-30 12:40:00' and '2021-06-30 16:40:00';\")\n",
    "print(pf)"
   ]
  },
  {
   "cell_type": "code",
   "execution_count": 24,
   "metadata": {},
   "outputs": [
    {
     "ename": "InterfaceError",
     "evalue": "Invalid connection property setting. Credentials provider, AWS credentials, or AWS profile must be provided when IAM is enabled",
     "output_type": "error",
     "traceback": [
      "\u001b[1;31m---------------------------------------------------------------------------\u001b[0m",
      "\u001b[1;31mInterfaceError\u001b[0m                            Traceback (most recent call last)",
      "\u001b[1;32m<ipython-input-24-65296ab48ecb>\u001b[0m in \u001b[0;36m<module>\u001b[1;34m\u001b[0m\n\u001b[0;32m      2\u001b[0m \u001b[1;33m\u001b[0m\u001b[0m\n\u001b[0;32m      3\u001b[0m \u001b[1;31m# Connects to Redshift cluster using IAM credentials from default profile defined in ~/.aws/credentials\u001b[0m\u001b[1;33m\u001b[0m\u001b[1;33m\u001b[0m\u001b[1;33m\u001b[0m\u001b[0m\n\u001b[1;32m----> 4\u001b[1;33m conn = redshift_connector.connect(\n\u001b[0m\u001b[0;32m      5\u001b[0m     \u001b[0miam\u001b[0m\u001b[1;33m=\u001b[0m\u001b[1;32mTrue\u001b[0m\u001b[1;33m,\u001b[0m\u001b[1;33m\u001b[0m\u001b[1;33m\u001b[0m\u001b[0m\n\u001b[0;32m      6\u001b[0m     \u001b[0mdatabase\u001b[0m\u001b[1;33m=\u001b[0m\u001b[1;34m'dev'\u001b[0m\u001b[1;33m,\u001b[0m\u001b[1;33m\u001b[0m\u001b[1;33m\u001b[0m\u001b[0m\n",
      "\u001b[1;32m~\\anaconda3\\lib\\site-packages\\redshift_connector\\__init__.py\u001b[0m in \u001b[0;36mconnect\u001b[1;34m(user, database, password, port, host, source_address, unix_sock, ssl, sslmode, timeout, max_prepared_statements, tcp_keepalive, application_name, replication, idp_host, db_user, app_id, app_name, preferred_role, principal_arn, access_key_id, secret_access_key, session_token, profile, credentials_provider, region, cluster_identifier, iam, client_id, idp_tenant, client_secret, partner_sp_id, idp_response_timeout, listen_port, login_url, auto_create, db_groups, force_lowercase, allow_db_user_override, client_protocol_version, database_metadata_current_db_only, ssl_insecure, web_identity_token, role_session_name, role_arn)\u001b[0m\n\u001b[0;32m    253\u001b[0m     \"\"\"\n\u001b[0;32m    254\u001b[0m     \u001b[0minfo\u001b[0m\u001b[1;33m:\u001b[0m \u001b[0mRedshiftProperty\u001b[0m \u001b[1;33m=\u001b[0m \u001b[0mRedshiftProperty\u001b[0m\u001b[1;33m(\u001b[0m\u001b[1;33m)\u001b[0m\u001b[1;33m\u001b[0m\u001b[1;33m\u001b[0m\u001b[0m\n\u001b[1;32m--> 255\u001b[1;33m     IamHelper.set_iam_properties(\n\u001b[0m\u001b[0;32m    256\u001b[0m         \u001b[0minfo\u001b[0m\u001b[1;33m,\u001b[0m\u001b[1;33m\u001b[0m\u001b[1;33m\u001b[0m\u001b[0m\n\u001b[0;32m    257\u001b[0m         \u001b[0muser\u001b[0m\u001b[1;33m=\u001b[0m\u001b[0muser\u001b[0m\u001b[1;33m,\u001b[0m\u001b[1;33m\u001b[0m\u001b[1;33m\u001b[0m\u001b[0m\n",
      "\u001b[1;32m~\\anaconda3\\lib\\site-packages\\redshift_connector\\iam_helper.py\u001b[0m in \u001b[0;36mset_iam_properties\u001b[1;34m(info, user, host, database, port, password, source_address, unix_sock, ssl, sslmode, timeout, max_prepared_statements, tcp_keepalive, application_name, replication, idp_host, db_user, iam, app_id, app_name, preferred_role, principal_arn, access_key_id, secret_access_key, session_token, profile, credentials_provider, region, cluster_identifier, client_id, idp_tenant, client_secret, partner_sp_id, idp_response_timeout, listen_port, login_url, auto_create, db_groups, force_lowercase, allow_db_user_override, client_protocol_version, database_metadata_current_db_only, ssl_insecure, web_identity_token, role_session_name, role_arn)\u001b[0m\n\u001b[0;32m    138\u001b[0m                 )\n\u001b[0;32m    139\u001b[0m             \u001b[1;32mif\u001b[0m \u001b[1;32mnot\u001b[0m \u001b[0many\u001b[0m\u001b[1;33m(\u001b[0m\u001b[1;33m(\u001b[0m\u001b[0mcredentials_provider\u001b[0m\u001b[1;33m,\u001b[0m \u001b[0maccess_key_id\u001b[0m\u001b[1;33m,\u001b[0m \u001b[0msecret_access_key\u001b[0m\u001b[1;33m,\u001b[0m \u001b[0msession_token\u001b[0m\u001b[1;33m,\u001b[0m \u001b[0mprofile\u001b[0m\u001b[1;33m)\u001b[0m\u001b[1;33m)\u001b[0m\u001b[1;33m:\u001b[0m\u001b[1;33m\u001b[0m\u001b[1;33m\u001b[0m\u001b[0m\n\u001b[1;32m--> 140\u001b[1;33m                 raise InterfaceError(\n\u001b[0m\u001b[0;32m    141\u001b[0m                     \u001b[1;34m\"Invalid connection property setting. Credentials provider, AWS credentials, or AWS profile must be\"\u001b[0m\u001b[1;33m\u001b[0m\u001b[1;33m\u001b[0m\u001b[0m\n\u001b[0;32m    142\u001b[0m                     \u001b[1;34m\" provided when IAM is enabled\"\u001b[0m\u001b[1;33m\u001b[0m\u001b[1;33m\u001b[0m\u001b[0m\n",
      "\u001b[1;31mInterfaceError\u001b[0m: Invalid connection property setting. Credentials provider, AWS credentials, or AWS profile must be provided when IAM is enabled"
     ]
    }
   ],
   "source": [
    "import redshift_connector\n",
    "\n",
    "# Connects to Redshift cluster using IAM credentials from default profile defined in ~/.aws/credentials\n",
    "conn = redshift_connector.connect(\n",
    "    iam=True,\n",
    "    database='dev',\n",
    "    db_user='ae',\n",
    "    password='',\n",
    "    user='',\n",
    "    cluster_identifier='cluster-1',\n",
    "    #access_key_id=\"my_aws_access_key_id\",\n",
    "    #secret_access_key=\"my_aws_secret_access_key\",\n",
    "    #session_token=\"my_aws_session_token\",\n",
    "    #region=\"us-east-2\"\n",
    " )"
   ]
  },
  {
   "cell_type": "code",
   "execution_count": 19,
   "metadata": {},
   "outputs": [
    {
     "name": "stdout",
     "output_type": "stream",
     "text": [
      "Collecting redshift_connector\n",
      "  Downloading redshift_connector-2.0.882-py3-none-any.whl (93 kB)\n",
      "Note: you may need to restart the kernel to use updated packages.Collecting scramp<1.5.0,>=1.2.0\n",
      "  Downloading scramp-1.4.0-py3-none-any.whl (8.4 kB)\n",
      "Collecting boto3<2.0.0,>=1.16.8\n",
      "  Downloading boto3-1.17.111-py2.py3-none-any.whl (131 kB)\n",
      "Requirement already satisfied: beautifulsoup4<5.0.0,>=4.7.0 in c:\\users\\abylk\\anaconda3\\lib\\site-packages (from redshift_connector) (4.9.1)\n",
      "Requirement already satisfied: requests<2.25.2,>=2.23.0 in c:\\users\\abylk\\anaconda3\\lib\\site-packages (from redshift_connector) (2.24.0)\n",
      "Collecting lxml>=4.6.2\n",
      "  Downloading lxml-4.6.3-cp38-cp38-win_amd64.whl (3.5 MB)\n",
      "Collecting botocore<2.0.0,>=1.19.8\n",
      "  Downloading botocore-1.20.111.tar.gz (7.9 MB)\n",
      "Requirement already satisfied: pytz<2021.9,>=2020.1 in c:\\users\\abylk\\anaconda3\\lib\\site-packages (from redshift_connector) (2020.1)\n",
      "Collecting asn1crypto==1.4.0\n",
      "  Downloading asn1crypto-1.4.0-py2.py3-none-any.whl (104 kB)\n",
      "\n",
      "Collecting jmespath<1.0.0,>=0.7.1\n",
      "  Downloading jmespath-0.10.0-py2.py3-none-any.whl (24 kB)\n",
      "Collecting s3transfer<0.5.0,>=0.4.0\n",
      "  Downloading s3transfer-0.4.2-py2.py3-none-any.whl (79 kB)\n",
      "Requirement already satisfied: soupsieve>1.2 in c:\\users\\abylk\\anaconda3\\lib\\site-packages (from beautifulsoup4<5.0.0,>=4.7.0->redshift_connector) (2.0.1)\n",
      "Requirement already satisfied: urllib3!=1.25.0,!=1.25.1,<1.26,>=1.21.1 in c:\\users\\abylk\\anaconda3\\lib\\site-packages (from requests<2.25.2,>=2.23.0->redshift_connector) (1.25.9)\n",
      "Requirement already satisfied: idna<3,>=2.5 in c:\\users\\abylk\\anaconda3\\lib\\site-packages (from requests<2.25.2,>=2.23.0->redshift_connector) (2.10)\n",
      "Requirement already satisfied: certifi>=2017.4.17 in c:\\users\\abylk\\anaconda3\\lib\\site-packages (from requests<2.25.2,>=2.23.0->redshift_connector) (2021.5.30)\n",
      "Requirement already satisfied: chardet<4,>=3.0.2 in c:\\users\\abylk\\anaconda3\\lib\\site-packages (from requests<2.25.2,>=2.23.0->redshift_connector) (3.0.4)\n",
      "Requirement already satisfied: python-dateutil<3.0.0,>=2.1 in c:\\users\\abylk\\anaconda3\\lib\\site-packages (from botocore<2.0.0,>=1.19.8->redshift_connector) (2.8.1)\n",
      "Requirement already satisfied: six>=1.5 in c:\\users\\abylk\\anaconda3\\lib\\site-packages (from python-dateutil<3.0.0,>=2.1->botocore<2.0.0,>=1.19.8->redshift_connector) (1.15.0)\n",
      "Building wheels for collected packages: botocore\n",
      "  Building wheel for botocore (setup.py): started\n",
      "  Building wheel for botocore (setup.py): finished with status 'done'\n",
      "  Created wheel for botocore: filename=botocore-1.20.111-py2.py3-none-any.whl size=7695024 sha256=c9ef3fd163673ad65458f5a2cbaf85661f17daee968b0e08cac071b4a98cc939\n",
      "  Stored in directory: c:\\users\\abylk\\appdata\\local\\pip\\cache\\wheels\\5a\\1c\\ae\\5a26a0cc4f03d70fc520a1352822c356ef578f85b796379c0e\n",
      "Successfully built botocore\n",
      "Installing collected packages: asn1crypto, scramp, jmespath, botocore, s3transfer, boto3, lxml, redshift-connector\n",
      "  Attempting uninstall: asn1crypto\n",
      "    Found existing installation: asn1crypto 1.3.0\n",
      "    Uninstalling asn1crypto-1.3.0:\n",
      "      Successfully uninstalled asn1crypto-1.3.0\n",
      "  Attempting uninstall: lxml\n",
      "    Found existing installation: lxml 4.5.2\n",
      "    Uninstalling lxml-4.5.2:\n",
      "      Successfully uninstalled lxml-4.5.2\n",
      "Successfully installed asn1crypto-1.4.0 boto3-1.17.111 botocore-1.20.111 jmespath-0.10.0 lxml-4.6.3 redshift-connector-2.0.882 s3transfer-0.4.2 scramp-1.4.0\n"
     ]
    }
   ],
   "source": [
    "pip install redshift_connector"
   ]
  },
  {
   "cell_type": "code",
   "execution_count": null,
   "metadata": {},
   "outputs": [],
   "source": [
    "postgresql://read@redshift-cluster-1.cteaioq1ymf5.us-east-2.redshift.amazonaws.com:5432/dev"
   ]
  },
  {
   "cell_type": "code",
   "execution_count": null,
   "metadata": {},
   "outputs": [],
   "source": []
  },
  {
   "cell_type": "code",
   "execution_count": null,
   "metadata": {},
   "outputs": [],
   "source": []
  }
 ],
 "metadata": {
  "kernelspec": {
   "display_name": "Python 3",
   "language": "python",
   "name": "python3"
  },
  "language_info": {
   "codemirror_mode": {
    "name": "ipython",
    "version": 3
   },
   "file_extension": ".py",
   "mimetype": "text/x-python",
   "name": "python",
   "nbconvert_exporter": "python",
   "pygments_lexer": "ipython3",
   "version": "3.8.3"
  }
 },
 "nbformat": 4,
 "nbformat_minor": 4
}
