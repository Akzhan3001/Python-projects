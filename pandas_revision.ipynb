{
 "cells": [
  {
   "cell_type": "markdown",
   "metadata": {},
   "source": [
    "# PANDAS_revision"
   ]
  },
  {
   "cell_type": "code",
   "execution_count": 1,
   "metadata": {},
   "outputs": [
    {
     "name": "stdout",
     "output_type": "stream",
     "text": [
      "0    1\n",
      "1    2\n",
      "2    3\n",
      "3    4\n",
      "4    5\n",
      "dtype: int64\n"
     ]
    }
   ],
   "source": [
    "import pandas as pd\n",
    "series = pd.Series([1,2,3,4,5]) # 1 dimensional like tuple\n",
    "print(series)"
   ]
  },
  {
   "cell_type": "code",
   "execution_count": 2,
   "metadata": {},
   "outputs": [
    {
     "name": "stdout",
     "output_type": "stream",
     "text": [
      "a    1\n",
      "b    2\n",
      "c    3\n",
      "d    4\n",
      "c    5\n",
      "dtype: int64\n"
     ]
    }
   ],
   "source": [
    "series = pd.Series([1,2,3,4,5], index=['a','b','c','d','c'])\n",
    "print(series)"
   ]
  },
  {
   "cell_type": "code",
   "execution_count": 11,
   "metadata": {},
   "outputs": [
    {
     "name": "stdout",
     "output_type": "stream",
     "text": [
      "3\n",
      "c    3\n",
      "d    4\n",
      "c    5\n",
      "dtype: int64\n",
      "3\n",
      "c    3\n",
      "c    5\n",
      "dtype: int64\n",
      "a    1\n",
      "b    2\n",
      "dtype: int64\n",
      "d    4\n",
      "c    5\n",
      "dtype: int64\n"
     ]
    }
   ],
   "source": [
    "print(series[2])\n",
    "print(series[2:])\n",
    "print(series.iloc[2])\n",
    "print(series.loc['c'])\n",
    "print(series.iloc[:2])\n",
    "print(series.loc['d':]) #for index only"
   ]
  },
  {
   "cell_type": "code",
   "execution_count": 15,
   "metadata": {},
   "outputs": [
    {
     "name": "stdout",
     "output_type": "stream",
     "text": [
      "DatetimeIndex(['2019-05-25', '2019-05-26', '2019-05-27', '2019-05-28',\n",
      "               '2019-05-29', '2019-05-30', '2019-05-31', '2019-06-01',\n",
      "               '2019-06-02', '2019-06-03', '2019-06-04', '2019-06-05'],\n",
      "              dtype='datetime64[ns]', freq='D')\n",
      "2019-05-25     1\n",
      "2019-05-26     2\n",
      "2019-05-27     3\n",
      "2019-05-28     4\n",
      "2019-05-29     3\n",
      "2019-05-30     7\n",
      "2019-05-31     7\n",
      "2019-06-01     8\n",
      "2019-06-02     9\n",
      "2019-06-03    10\n",
      "2019-06-04    11\n",
      "2019-06-05    12\n",
      "Freq: D, dtype: int64\n",
      "DatetimeIndex(['2019-05-25', '2019-05-26', '2019-05-27', '2019-05-28',\n",
      "               '2019-05-29', '2019-05-30', '2019-05-31', '2019-06-01',\n",
      "               '2019-06-02', '2019-06-03', '2019-06-04', '2019-06-05'],\n",
      "              dtype='datetime64[ns]', freq='D')\n"
     ]
    }
   ],
   "source": [
    "dates1 = pd.date_range('20190525', periods=12)\n",
    "print(dates1)\n",
    "series = pd.Series([1,2,3,4,5,6,7,8,9,10,11,12])\n",
    "series.index = dates1\n",
    "print(series)\n",
    "dates1.index=series\n",
    "print(dates1)"
   ]
  },
  {
   "cell_type": "code",
   "execution_count": 18,
   "metadata": {},
   "outputs": [
    {
     "name": "stdout",
     "output_type": "stream",
     "text": [
      "DatetimeIndex(['2019-05-31', '2019-06-30', '2019-07-31', '2019-08-31',\n",
      "               '2019-09-30', '2019-10-31', '2019-11-30', '2019-12-31',\n",
      "               '2020-01-31', '2020-02-29', '2020-03-31', '2020-04-30'],\n",
      "              dtype='datetime64[ns]', freq='M')\n"
     ]
    }
   ],
   "source": [
    "dates2 = pd.date_range('2019-05-01', periods=12, freq='M')\n",
    "print(dates2)"
   ]
  },
  {
   "cell_type": "code",
   "execution_count": 23,
   "metadata": {},
   "outputs": [
    {
     "name": "stdout",
     "output_type": "stream",
     "text": [
      "DatetimeIndex(['2019-06-01', '2019-07-01', '2019-08-01', '2019-09-01',\n",
      "               '2019-10-01', '2019-11-01', '2019-12-01', '2020-01-01',\n",
      "               '2020-02-01', '2020-03-01', '2020-04-01', '2020-05-01'],\n",
      "              dtype='datetime64[ns]', freq='MS')\n"
     ]
    }
   ],
   "source": [
    "dates2 = pd.date_range('2019-05-20', periods=12, freq='MS') #the beginning of each month\n",
    "print(dates2)"
   ]
  },
  {
   "cell_type": "code",
   "execution_count": 24,
   "metadata": {},
   "outputs": [
    {
     "name": "stdout",
     "output_type": "stream",
     "text": [
      "          A         B         C         D\n",
      "0 -2.901630  1.187692 -0.459893  0.312894\n",
      "1  1.297385  0.669642  1.795809 -0.810114\n",
      "2 -0.533181 -0.872982  0.142489  0.673220\n",
      "3  0.545057  0.114913 -0.333215 -0.255176\n",
      "4  0.264975 -1.111470 -1.046465 -0.651031\n",
      "5  1.858047  0.330746  0.056446  1.143970\n",
      "6  0.254362 -1.423887 -0.282924 -0.395987\n",
      "7  1.202945  0.856010 -0.166753  0.419943\n",
      "8 -1.510302 -0.139510  0.383218  0.726246\n",
      "9  0.329227 -1.042220  0.603414  0.494878\n"
     ]
    }
   ],
   "source": [
    "import pandas as pd\n",
    "import numpy as np\n",
    "df = pd.DataFrame(np.random.randn(10,4),\n",
    "columns=list('ABCD')) #2 dimensional \n",
    "print(df)"
   ]
  },
  {
   "cell_type": "code",
   "execution_count": null,
   "metadata": {},
   "outputs": [],
   "source": [
    "df = pd.read_csv('data.csv')\n",
    "print(df)\n",
    "print(df.values)\n",
    "print(df.describe())\n",
    "print(df.mean(0)) # 0 means compute the mean for each columns\n",
    "print(df.mean(1)) # 1 means compute the mean for each row\n",
    "print(df.head()) #first 5 rows\n",
    "print(df.head(8))#first 8 rows\n",
    "print(df.tail())#last 5 rows\n",
    "print(df.head(8))#last 8 rows\n",
    "print(df['A'])#A column same as df.A\n",
    "print(df[['A','B']])#2 columns  not for loc and iloc\n",
    "print(df[2:4]) #2-4 row 3 not included\n",
    "print(df.iloc[2:4]) # 2-4 by index same as print(df.iloc[[2,4]]) this only for iloc\n",
    "print(df.iloc[2:4, 1:4]) #row numbers 2 to 3, and column numbers 1 to 3\n",
    "print(df['20190601':'20190603']) # for index only, same as print(df.loc['20190601':'20190603'])\n",
    "print(df.loc['20190601':'20190603', 'A':'C']) #extract certain columns of certain rows by index\n",
    "from datetime import datetime\n",
    "date1 = datetime(2019, 6, 1, 0, 0, 0)\n",
    "date2 = datetime(2019, 6, 3, 0, 0, 0)\n",
    "print(df.loc[[date1,date2]])\n",
    "print(df.loc[date1, ['A','C']])\n",
    "print(df.at[d,'B'])\n",
    "print(df[(df.A > 0) & (df.B>0)])\n",
    "print(df.sort_index(axis=0, ascending=False)) # axis = 0 means sort by # index\n",
    "print(df.sort_index(axis=1, ascending=False)) # axis = 1 means sort by # column\n",
    "print(df.sort_values('A', axis=0)) # by column\n",
    "print(df.sort_values('20190601', axis=1)) # by row\n",
    "print(df.apply(np.sum, axis=0))# axis=1 is for each row\n",
    "\n",
    "\n"
   ]
  },
  {
   "cell_type": "code",
   "execution_count": 40,
   "metadata": {},
   "outputs": [
    {
     "name": "stdout",
     "output_type": "stream",
     "text": [
      "              name  year  reports\n",
      "Singapore    Janet  2012        6\n",
      "China          Nad  2012       13\n",
      "Japan      Timothy  2013       14\n",
      "Sweden        June  2014        1\n",
      "Norway         Amy  2014        7\n"
     ]
    }
   ],
   "source": [
    "data = {'name': ['Janet', 'Nad', 'Timothy', 'June', 'Amy'],\n",
    "'year': [2012, 2012, 2013, 2014, 2014],\n",
    "'reports': [6, 13, 14, 1, 7]}\n",
    "df = pd.DataFrame(data, index =\n",
    "['Singapore', 'China', 'Japan', 'Sweden', 'Norway'])\n",
    "print(df)"
   ]
  },
  {
   "cell_type": "code",
   "execution_count": 41,
   "metadata": {},
   "outputs": [
    {
     "name": "stdout",
     "output_type": "stream",
     "text": [
      "              name  year  reports     school\n",
      "Singapore    Janet  2012        6  Cambridge\n",
      "China          Nad  2012       13     Oxford\n",
      "Japan      Timothy  2013       14     Oxford\n",
      "Sweden        June  2014        1  Cambridge\n",
      "Norway         Amy  2014        7     Oxford\n"
     ]
    }
   ],
   "source": [
    "import numpy as np\n",
    "schools = np.array([\"Cambridge\",\"Oxford\",\"Oxford\",\"Cambridge\",\"Oxford\"])\n",
    "df[\"school\"] = schools\n",
    "print(df)"
   ]
  },
  {
   "cell_type": "code",
   "execution_count": 42,
   "metadata": {},
   "outputs": [
    {
     "name": "stdout",
     "output_type": "stream",
     "text": [
      "            name  year  reports     school\n",
      "Singapore  Janet  2012        6  Cambridge\n",
      "Sweden      June  2014        1  Cambridge\n",
      "Norway       Amy  2014        7     Oxford\n"
     ]
    }
   ],
   "source": [
    "print(df.drop(['China', 'Japan'])) # drop rows based on value of index"
   ]
  },
  {
   "cell_type": "code",
   "execution_count": 43,
   "metadata": {},
   "outputs": [
    {
     "name": "stdout",
     "output_type": "stream",
     "text": [
      "              name  year  reports     school\n",
      "Singapore    Janet  2012        6  Cambridge\n",
      "Japan      Timothy  2013       14     Oxford\n",
      "Sweden        June  2014        1  Cambridge\n",
      "Norway         Amy  2014        7     Oxford\n"
     ]
    }
   ],
   "source": [
    "print(df[df.name != 'Nad']) # drop row based on column value"
   ]
  },
  {
   "cell_type": "code",
   "execution_count": 44,
   "metadata": {},
   "outputs": [
    {
     "name": "stdout",
     "output_type": "stream",
     "text": [
      "              name  year  reports     school\n",
      "Singapore    Janet  2012        6  Cambridge\n",
      "Japan      Timothy  2013       14     Oxford\n",
      "Sweden        June  2014        1  Cambridge\n",
      "Norway         Amy  2014        7     Oxford\n"
     ]
    }
   ],
   "source": [
    "print(df.drop(df.index[1]))"
   ]
  },
  {
   "cell_type": "code",
   "execution_count": 45,
   "metadata": {},
   "outputs": [
    {
     "name": "stdout",
     "output_type": "stream",
     "text": [
      "              name  year  reports     school\n",
      "Singapore    Janet  2012        6  Cambridge\n",
      "China          Nad  2012       13     Oxford\n",
      "Japan      Timothy  2013       14     Oxford\n",
      "Norway         Amy  2014        7     Oxford\n"
     ]
    }
   ],
   "source": [
    "print(df.drop(df.index[-2])) # remove second last row"
   ]
  },
  {
   "cell_type": "code",
   "execution_count": 46,
   "metadata": {},
   "outputs": [
    {
     "name": "stdout",
     "output_type": "stream",
     "text": [
      "              name  year     school\n",
      "Singapore    Janet  2012  Cambridge\n",
      "China          Nad  2012     Oxford\n",
      "Japan      Timothy  2013     Oxford\n",
      "Sweden        June  2014  Cambridge\n",
      "Norway         Amy  2014     Oxford\n"
     ]
    }
   ],
   "source": [
    "print(df.drop('reports', axis=1)) # drop column"
   ]
  },
  {
   "cell_type": "code",
   "execution_count": 47,
   "metadata": {},
   "outputs": [
    {
     "name": "stdout",
     "output_type": "stream",
     "text": [
      "              name  reports\n",
      "Singapore    Janet        6\n",
      "China          Nad       13\n",
      "Japan      Timothy       14\n",
      "Sweden        June        1\n",
      "Norway         Amy        7\n"
     ]
    }
   ],
   "source": [
    "print(df.drop(df.columns[[1,3]], axis=1)) # drop multiple columns"
   ]
  },
  {
   "cell_type": "code",
   "execution_count": 48,
   "metadata": {},
   "outputs": [
    {
     "name": "stdout",
     "output_type": "stream",
     "text": [
      "   Gender  Team\n",
      "0    Male     1\n",
      "1    Male     2\n",
      "2  Female     3\n",
      "3  Female     3\n",
      "4  Female     1\n"
     ]
    }
   ],
   "source": [
    "df = pd.DataFrame(\n",
    "{\n",
    "\"Gender\": ['Male','Male','Female','Female','Female'],\n",
    "\"Team\" : [1,2,3,3,1]\n",
    "})\n",
    "print(df)"
   ]
  },
  {
   "cell_type": "code",
   "execution_count": 49,
   "metadata": {},
   "outputs": [
    {
     "name": "stdout",
     "output_type": "stream",
     "text": [
      "Displaying the distribution of genders in each team\n",
      "Team    1  2  3\n",
      "Gender         \n",
      "Female  1  0  2\n",
      "Male    1  1  0\n"
     ]
    }
   ],
   "source": [
    "print(\"Displaying the distribution of genders in each team\")\n",
    "print(pd.crosstab(df.Gender, df.Team))"
   ]
  },
  {
   "cell_type": "code",
   "execution_count": 52,
   "metadata": {},
   "outputs": [
    {
     "name": "stdout",
     "output_type": "stream",
     "text": [
      "Gender  Female  Male\n",
      "Team                \n",
      "1            1     1\n",
      "2            0     1\n",
      "3            2     0\n"
     ]
    }
   ],
   "source": [
    "print(pd.crosstab(df['Team'], df['Gender']))"
   ]
  },
  {
   "cell_type": "code",
   "execution_count": null,
   "metadata": {},
   "outputs": [],
   "source": []
  },
  {
   "cell_type": "code",
   "execution_count": null,
   "metadata": {},
   "outputs": [],
   "source": []
  }
 ],
 "metadata": {
  "kernelspec": {
   "display_name": "Python 3",
   "language": "python",
   "name": "python3"
  },
  "language_info": {
   "codemirror_mode": {
    "name": "ipython",
    "version": 3
   },
   "file_extension": ".py",
   "mimetype": "text/x-python",
   "name": "python",
   "nbconvert_exporter": "python",
   "pygments_lexer": "ipython3",
   "version": "3.8.3"
  }
 },
 "nbformat": 4,
 "nbformat_minor": 4
}
