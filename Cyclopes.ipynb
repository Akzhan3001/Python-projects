{
 "cells": [
  {
   "cell_type": "code",
   "execution_count": 1,
   "metadata": {},
   "outputs": [],
   "source": [
    "import pandas as pd\n",
    "import numpy as np\n",
    "import requests\n",
    "from bs4 import BeautifulSoup as soup\n",
    "import json"
   ]
  },
  {
   "cell_type": "code",
   "execution_count": 2,
   "metadata": {},
   "outputs": [],
   "source": [
    "with open('chicago_filter.json', 'r') as f:\n",
    "    data = json.load(f)\n",
    "df = pd.DataFrame(data)"
   ]
  },
  {
   "cell_type": "code",
   "execution_count": 3,
   "metadata": {},
   "outputs": [
    {
     "data": {
      "text/plain": [
       "{'industryName': 'Computer Software',\n",
       " 'lastName': 'Zhang',\n",
       " 'student': False,\n",
       " 'geoCountryName': 'United States',\n",
       " 'geoCountryUrn': 'urn:li:fs_geo:103644278',\n",
       " 'geoLocationBackfilled': False,\n",
       " 'elt': False,\n",
       " 'industryUrn': 'urn:li:fs_industry:4',\n",
       " 'firstName': 'Elaine',\n",
       " 'entityUrn': 'urn:li:fs_profile:ACoAAAmxZp8Bw7PhHswXpaNq8x55z7YZWbGs1b4',\n",
       " 'geoLocation': {'geoUrn': 'urn:li:fs_geo:103112676'},\n",
       " 'geoLocationName': 'Chicago, Illinois',\n",
       " 'location': {'basicLocation': {'countryCode': 'us'}},\n",
       " 'headline': 'MBA Candidate at The University of Chicago Booth School of Business',\n",
       " 'displayPictureUrl': 'https://media-exp1.licdn.com/dms/image/C4E03AQGaqhwyj12zNw/profile-displayphoto-shrink_',\n",
       " 'img_100_100': '100_100/0/1597435547761?e=1633564800&v=beta&t=C2f5cW4Qj2sKSIR9P2VAfeNpag5JEO0EB128tOeUy3w',\n",
       " 'img_200_200': '200_200/0/1597435547761?e=1633564800&v=beta&t=LL1gwyrPbu4dE5RTMwYWDPrSKFFvqMSvX6Czztx0A1k',\n",
       " 'img_400_400': '400_400/0/1597435547761?e=1633564800&v=beta&t=Df_WqQazpLmhMgj1vVXlRUV5HYi3qrckXaNVOXgPG8k',\n",
       " 'img_800_800': '800_800/0/1597435547761?e=1633564800&v=beta&t=eoPOcbNyiugIUSlsuUp6jBg3sG7hLcajd2iq3_bWwjA',\n",
       " 'profile_id': 'ACoAAAmxZp8Bw7PhHswXpaNq8x55z7YZWbGs1b4',\n",
       " 'profile_urn': 'urn:li:fs_miniProfile:ACoAAAmxZp8Bw7PhHswXpaNq8x55z7YZWbGs1b4',\n",
       " 'member_urn': 'urn:li:member:162621087',\n",
       " 'experience': [{'locationName': 'Chicago, Illinois, United States',\n",
       "   'entityUrn': 'urn:li:fs_position:(ACoAAAmxZp8Bw7PhHswXpaNq8x55z7YZWbGs1b4,1605388148)',\n",
       "   'geoLocationName': 'Chicago, Illinois, United States',\n",
       "   'geoUrn': 'urn:li:fs_geo:103112676',\n",
       "   'companyName': 'The University of Chicago Booth School of Business',\n",
       "   'timePeriod': {'startDate': {'month': 9, 'year': 2019}},\n",
       "   'company': {'employeeCountRange': {'start': 1001, 'end': 5000},\n",
       "    'industries': ['Higher Education']},\n",
       "   'title': 'MBA Candidate',\n",
       "   'region': 'urn:li:fs_region:(us,0)',\n",
       "   'companyUrn': 'urn:li:fs_miniCompany:8398',\n",
       "   'companyLogoUrl': 'https://media-exp1.licdn.com/dms/image/C560BAQG2EMlnW7YBuQ/company-logo_'},\n",
       "  {'entityUrn': 'urn:li:fs_position:(ACoAAAmxZp8Bw7PhHswXpaNq8x55z7YZWbGs1b4,1633086081)',\n",
       "   'companyName': 'Amazon',\n",
       "   'timePeriod': {'endDate': {'month': 8, 'year': 2020},\n",
       "    'startDate': {'month': 6, 'year': 2020}},\n",
       "   'company': {'employeeCountRange': {'start': 10001},\n",
       "    'industries': ['Internet']},\n",
       "   'title': 'Corporate Development MBA Intern',\n",
       "   'companyUrn': 'urn:li:fs_miniCompany:1586',\n",
       "   'companyLogoUrl': 'https://media-exp1.licdn.com/dms/image/C560BAQHTvZwCx4p2Qg/company-logo_'},\n",
       "  {'locationName': 'Hong Kong',\n",
       "   'entityUrn': 'urn:li:fs_position:(ACoAAAmxZp8Bw7PhHswXpaNq8x55z7YZWbGs1b4,1198171819)',\n",
       "   'geoLocationName': 'Hong Kong',\n",
       "   'companyName': 'Microsoft',\n",
       "   'timePeriod': {'endDate': {'month': 6, 'year': 2019},\n",
       "    'startDate': {'month': 1, 'year': 2018}},\n",
       "   'description': 'Drove adoption and change management with business stakeholders to maximize ROI\\n\\nAnalyzed deployment and active usage data on Microsoft Teams to accelerate adoption in Enterprise and Corporate accounts \\n\\nCreated \"role-based\" Microsoft Teams use cases and demo assets for HR, Admin, General Manager; mobilized internal staff as Teams “SMEs”\\n\\nAligned with product engineers on Microsoft Teams product improvement and represented “voice of customer” from field',\n",
       "   'company': {'employeeCountRange': {'start': 10001},\n",
       "    'industries': ['Computer Software']},\n",
       "   'title': 'Product Marketing Manager, Customer Success, Microsoft 365',\n",
       "   'companyUrn': 'urn:li:fs_miniCompany:1035',\n",
       "   'companyLogoUrl': 'https://media-exp1.licdn.com/dms/image/C560BAQE88xCsONDULQ/company-logo_'},\n",
       "  {'locationName': 'Hong Kong',\n",
       "   'entityUrn': 'urn:li:fs_position:(ACoAAAmxZp8Bw7PhHswXpaNq8x55z7YZWbGs1b4,743423552)',\n",
       "   'geoLocationName': 'Hong Kong',\n",
       "   'companyName': 'Microsoft',\n",
       "   'timePeriod': {'endDate': {'month': 12, 'year': 2017},\n",
       "    'startDate': {'month': 10, 'year': 2015}},\n",
       "   'description': 'Launched Dynamics 365 in Hong Kong as the second regional market worldwide \\n\\nDeveloped Partner Solution Catalogue to generate demand and promote Dynamics partner ecosystem \\n\\nDrove customer advocacy and published customer testimonials on Digital Transformation through Dynamics Cloud',\n",
       "   'company': {'employeeCountRange': {'start': 10001},\n",
       "    'industries': ['Computer Software']},\n",
       "   'title': 'Product Marketing Manager, Dynamics 365',\n",
       "   'companyUrn': 'urn:li:fs_miniCompany:1035',\n",
       "   'companyLogoUrl': 'https://media-exp1.licdn.com/dms/image/C560BAQE88xCsONDULQ/company-logo_'},\n",
       "  {'locationName': 'Hong Kong',\n",
       "   'entityUrn': 'urn:li:fs_position:(ACoAAAmxZp8Bw7PhHswXpaNq8x55z7YZWbGs1b4,547102323)',\n",
       "   'geoLocationName': 'Hong Kong',\n",
       "   'companyName': 'Microsoft',\n",
       "   'timePeriod': {'endDate': {'month': 10, 'year': 2015},\n",
       "    'startDate': {'month': 6, 'year': 2014}},\n",
       "   'description': 'Achieved All-Green Scorecard in Fiscal Year 2015; developed and implemented Enterprise Communications strategies\\n\\nOrchestrated key product media launches  including Surface Pro 3, Windows 10, Office 2016 across digital, social and influencer campaigns',\n",
       "   'company': {'employeeCountRange': {'start': 10001},\n",
       "    'industries': ['Computer Software']},\n",
       "   'title': 'Marketing Communications Manager',\n",
       "   'companyUrn': 'urn:li:fs_miniCompany:1035',\n",
       "   'companyLogoUrl': 'https://media-exp1.licdn.com/dms/image/C560BAQE88xCsONDULQ/company-logo_'}],\n",
       " 'education': [{'entityUrn': 'urn:li:fs_education:(ACoAAAmxZp8Bw7PhHswXpaNq8x55z7YZWbGs1b4,647213109)',\n",
       "   'school': {'objectUrn': 'urn:li:school:18315',\n",
       "    'entityUrn': 'urn:li:fs_miniSchool:18315',\n",
       "    'active': True,\n",
       "    'schoolName': 'The University of Chicago Booth School of Business',\n",
       "    'trackingId': 'hw9xq4fbTwydxehyCPx1UA==',\n",
       "    'logoUrl': 'https://media-exp1.licdn.com/dms/image/C560BAQG2EMlnW7YBuQ/company-logo_'},\n",
       "   'timePeriod': {'endDate': {'year': 2021}, 'startDate': {'year': 2019}},\n",
       "   'degreeName': 'Master of Business Administration - MBA',\n",
       "   'schoolName': 'The University of Chicago Booth School of Business',\n",
       "   'degreeUrn': 'urn:li:fs_degree:700',\n",
       "   'schoolUrn': 'urn:li:fs_miniSchool:18315'},\n",
       "  {'entityUrn': 'urn:li:fs_education:(ACoAAAmxZp8Bw7PhHswXpaNq8x55z7YZWbGs1b4,95388564)',\n",
       "   'school': {'objectUrn': 'urn:li:school:19328',\n",
       "    'entityUrn': 'urn:li:fs_miniSchool:19328',\n",
       "    'active': True,\n",
       "    'schoolName': 'University of Pennsylvania',\n",
       "    'trackingId': 'J/5+gV/LRxmFN+qgzE6Tew==',\n",
       "    'logoUrl': 'https://media-exp1.licdn.com/dms/image/C4E0BAQHnbnsnJlBiZg/company-logo_'},\n",
       "   'timePeriod': {'endDate': {'year': 2013}, 'startDate': {'year': 2009}},\n",
       "   'degreeName': 'B.A.',\n",
       "   'schoolName': 'University of Pennsylvania',\n",
       "   'fieldOfStudy': 'International Relations',\n",
       "   'schoolUrn': 'urn:li:fs_miniSchool:19328'},\n",
       "  {'entityUrn': 'urn:li:fs_education:(ACoAAAmxZp8Bw7PhHswXpaNq8x55z7YZWbGs1b4,117644751)',\n",
       "   'school': {'objectUrn': 'urn:li:school:11287',\n",
       "    'entityUrn': 'urn:li:fs_miniSchool:11287',\n",
       "    'active': True,\n",
       "    'schoolName': 'Peking University',\n",
       "    'trackingId': 'DnSjKX1XTdWO/asrS+a+4Q==',\n",
       "    'logoUrl': 'https://media-exp1.licdn.com/dms/image/C560BAQFNJ0xtCpaTmA/company-logo_'},\n",
       "   'timePeriod': {'endDate': {'year': 2010}, 'startDate': {'year': 2010}},\n",
       "   'degreeName': 'Summer School International',\n",
       "   'schoolName': 'Peking University',\n",
       "   'fieldOfStudy': 'International Relations and Affairs',\n",
       "   'schoolUrn': 'urn:li:fs_miniSchool:11287'}],\n",
       " 'languages': [],\n",
       " 'publications': [],\n",
       " 'certifications': [{'authority': 'INSEAD Executive Education',\n",
       "   'name': 'Microsoft-INSEAD Online Business Strategy and Financial Acumen - Distinction',\n",
       "   'timePeriod': {'startDate': {'month': 1, 'year': 2015}},\n",
       "   'company': {'objectUrn': 'urn:li:company:2413404',\n",
       "    'entityUrn': 'urn:li:fs_miniCompany:2413404',\n",
       "    'name': 'INSEAD Executive Education',\n",
       "    'showcase': False,\n",
       "    'active': True,\n",
       "    'logo': {'com.linkedin.common.VectorImage': {'artifacts': [{'width': 200,\n",
       "        'fileIdentifyingUrlPathSegment': '200_200/0/1598890456084?e=1636588800&v=beta&t=gqLcGgIu_KFdvTlgaWIhPAE0Csjq27l0B_vsvoHZtRs',\n",
       "        'expiresAt': 1636588800000,\n",
       "        'height': 200},\n",
       "       {'width': 100,\n",
       "        'fileIdentifyingUrlPathSegment': '100_100/0/1598890456084?e=1636588800&v=beta&t=59WzbVI53FBPunoSFZFdJOz0SWC5vpt6qM9E6RIQ2v0',\n",
       "        'expiresAt': 1636588800000,\n",
       "        'height': 100},\n",
       "       {'width': 400,\n",
       "        'fileIdentifyingUrlPathSegment': '400_400/0/1598890456084?e=1636588800&v=beta&t=qITiDZAqyOje7c9q-uZPA4wbHw8hJJnR5DrDzG7S1Co',\n",
       "        'expiresAt': 1636588800000,\n",
       "        'height': 400}],\n",
       "      'rootUrl': 'https://media-exp1.licdn.com/dms/image/C4D0BAQF0qQgpeGXgfQ/company-logo_'}},\n",
       "    'universalName': 'insead-executive-education',\n",
       "    'dashCompanyUrn': 'urn:li:fsd_company:2413404',\n",
       "    'trackingId': 'xiBT5qy3TG6Tkm3w16eIzQ=='},\n",
       "   'displaySource': 'youracclaim.com',\n",
       "   'companyUrn': 'urn:li:fs_miniCompany:2413404',\n",
       "   'url': 'https://www.youracclaim.com/badges/e5e25032-5c01-49b6-8096-43a6d583d0ee'},\n",
       "  {'authority': 'Wharton Executive Education',\n",
       "   'name': 'Selling to the C-Suite',\n",
       "   'timePeriod': {'startDate': {'month': 3, 'year': 2016}},\n",
       "   'company': {'objectUrn': 'urn:li:company:1718987',\n",
       "    'entityUrn': 'urn:li:fs_miniCompany:1718987',\n",
       "    'name': 'Wharton Executive Education',\n",
       "    'showcase': False,\n",
       "    'active': True,\n",
       "    'logo': {'com.linkedin.common.VectorImage': {'artifacts': [{'width': 200,\n",
       "        'fileIdentifyingUrlPathSegment': '200_200/0/1519911665500?e=1636588800&v=beta&t=fKYP34vgakEVDOJ70eYpkdsLPbAkRQgZnk_vp0eKqEQ',\n",
       "        'expiresAt': 1636588800000,\n",
       "        'height': 200},\n",
       "       {'width': 100,\n",
       "        'fileIdentifyingUrlPathSegment': '100_100/0/1519911665500?e=1636588800&v=beta&t=SZqLjC3ksxcYDtn09DI9I5wKCjrOsXVZX5u9k-gL340',\n",
       "        'expiresAt': 1636588800000,\n",
       "        'height': 100},\n",
       "       {'width': 400,\n",
       "        'fileIdentifyingUrlPathSegment': '400_400/0/1519911665500?e=1636588800&v=beta&t=iX9TKxrzaPigeiz4D6NyZM7XPJUyVN84DxacIRHA71U',\n",
       "        'expiresAt': 1636588800000,\n",
       "        'height': 400}],\n",
       "      'rootUrl': 'https://media-exp1.licdn.com/dms/image/C4E0BAQFb9PcSlrS4Bg/company-logo_'}},\n",
       "    'universalName': 'wharton-executive-education',\n",
       "    'dashCompanyUrn': 'urn:li:fsd_company:1718987',\n",
       "    'trackingId': 'RtpyxA0jQNiGUvrNpwkIaA=='},\n",
       "   'displaySource': 'youracclaim.com',\n",
       "   'companyUrn': 'urn:li:fs_miniCompany:1718987',\n",
       "   'url': 'https://www.youracclaim.com/badges/1619e3b7-6c79-4ba9-b21f-be7f5fa6bc6d/linked_in_profile'},\n",
       "  {'authority': 'INSEAD Executive Education',\n",
       "   'name': 'Microsoft-INSEAD Online Challenging Customers through Business Model Innovation',\n",
       "   'timePeriod': {'startDate': {'month': 1, 'year': 2015}},\n",
       "   'company': {'objectUrn': 'urn:li:company:2413404',\n",
       "    'entityUrn': 'urn:li:fs_miniCompany:2413404',\n",
       "    'name': 'INSEAD Executive Education',\n",
       "    'showcase': False,\n",
       "    'active': True,\n",
       "    'logo': {'com.linkedin.common.VectorImage': {'artifacts': [{'width': 200,\n",
       "        'fileIdentifyingUrlPathSegment': '200_200/0/1598890456084?e=1636588800&v=beta&t=gqLcGgIu_KFdvTlgaWIhPAE0Csjq27l0B_vsvoHZtRs',\n",
       "        'expiresAt': 1636588800000,\n",
       "        'height': 200},\n",
       "       {'width': 100,\n",
       "        'fileIdentifyingUrlPathSegment': '100_100/0/1598890456084?e=1636588800&v=beta&t=59WzbVI53FBPunoSFZFdJOz0SWC5vpt6qM9E6RIQ2v0',\n",
       "        'expiresAt': 1636588800000,\n",
       "        'height': 100},\n",
       "       {'width': 400,\n",
       "        'fileIdentifyingUrlPathSegment': '400_400/0/1598890456084?e=1636588800&v=beta&t=qITiDZAqyOje7c9q-uZPA4wbHw8hJJnR5DrDzG7S1Co',\n",
       "        'expiresAt': 1636588800000,\n",
       "        'height': 400}],\n",
       "      'rootUrl': 'https://media-exp1.licdn.com/dms/image/C4D0BAQF0qQgpeGXgfQ/company-logo_'}},\n",
       "    'universalName': 'insead-executive-education',\n",
       "    'dashCompanyUrn': 'urn:li:fsd_company:2413404',\n",
       "    'trackingId': 'YX/hf1IhRw2cVGpCTA/6Cw=='},\n",
       "   'displaySource': 'youracclaim.com',\n",
       "   'companyUrn': 'urn:li:fs_miniCompany:2413404',\n",
       "   'url': 'https://www.youracclaim.com/badges/51ae7060-bda8-44ec-b528-b8800eddc38a/linked_in_profile'},\n",
       "  {'authority': 'Microsoft',\n",
       "   'name': 'Insight Selling ',\n",
       "   'timePeriod': {'startDate': {'month': 12, 'year': 2017}},\n",
       "   'company': {'objectUrn': 'urn:li:company:1035',\n",
       "    'entityUrn': 'urn:li:fs_miniCompany:1035',\n",
       "    'name': 'Microsoft',\n",
       "    'showcase': False,\n",
       "    'active': True,\n",
       "    'logo': {'com.linkedin.common.VectorImage': {'artifacts': [{'width': 200,\n",
       "        'fileIdentifyingUrlPathSegment': '200_200/0/1618231291419?e=1636588800&v=beta&t=QKm8P9YgKW0A88KKBmDJWaqD-XwBowKv4H-WdEdOntk',\n",
       "        'expiresAt': 1636588800000,\n",
       "        'height': 200},\n",
       "       {'width': 100,\n",
       "        'fileIdentifyingUrlPathSegment': '100_100/0/1618231291419?e=1636588800&v=beta&t=ZBwdpOQCmQVNs_QhN-DKQ4eKDCzt_xB20IcsSrfr8qk',\n",
       "        'expiresAt': 1636588800000,\n",
       "        'height': 100},\n",
       "       {'width': 400,\n",
       "        'fileIdentifyingUrlPathSegment': '400_400/0/1618231291419?e=1636588800&v=beta&t=-PS8N-5tMy_8OWHSwU2e46wtwvKoLAWaiuq7P1n1tak',\n",
       "        'expiresAt': 1636588800000,\n",
       "        'height': 400}],\n",
       "      'rootUrl': 'https://media-exp1.licdn.com/dms/image/C560BAQE88xCsONDULQ/company-logo_'}},\n",
       "    'universalName': 'microsoft',\n",
       "    'dashCompanyUrn': 'urn:li:fsd_company:1035',\n",
       "    'trackingId': '6kYLfzpgT+K11VXIoQ6/qQ=='},\n",
       "   'displaySource': 'youracclaim.com',\n",
       "   'companyUrn': 'urn:li:fs_miniCompany:1035',\n",
       "   'url': 'https://www.youracclaim.com/org/microsoft-certification/badge/insight-selling'}],\n",
       " 'volunteer': [],\n",
       " 'honors': []}"
      ]
     },
     "execution_count": 3,
     "metadata": {},
     "output_type": "execute_result"
    }
   ],
   "source": [
    "data[0]"
   ]
  },
  {
   "cell_type": "code",
   "execution_count": 4,
   "metadata": {},
   "outputs": [
    {
     "data": {
      "text/plain": [
       "{'industryName': 'Banking',\n",
       " 'lastName': 'XU',\n",
       " 'locationName': 'Hong Kong',\n",
       " 'student': False,\n",
       " 'geoCountryName': 'Hong Kong SAR',\n",
       " 'geoCountryUrn': 'urn:li:fs_geo:103291313',\n",
       " 'geoLocationBackfilled': False,\n",
       " 'elt': True,\n",
       " 'industryUrn': 'urn:li:fs_industry:41',\n",
       " 'firstName': 'Yidong (Jason)',\n",
       " 'entityUrn': 'urn:li:fs_profile:ACoAACApXbMBPPARPoVUsrwGdQPy7YUiU6-KBco',\n",
       " 'geoLocation': {'geoUrn': 'urn:li:fs_geo:103291313'},\n",
       " 'location': {'basicLocation': {'countryCode': 'hk'}},\n",
       " 'headline': 'M.S. in Financial Mathematics at the University of Chicago',\n",
       " 'displayPictureUrl': 'https://media-exp1.licdn.com/dms/image/C4E03AQF9Byyy2V8wGA/profile-displayphoto-shrink_',\n",
       " 'img_100_100': '100_100/0/1567067924579?e=1633564800&v=beta&t=1p15ylvVTNG2oBou0mMmoIq8ORxvTCbdAOcmR5JT_KE',\n",
       " 'img_200_200': '200_200/0/1567067924579?e=1633564800&v=beta&t=VVyXJLJbaUKAnljwQV59WKUAu_LehtZOh4oEMNyaHtI',\n",
       " 'img_400_400': '400_400/0/1567067924579?e=1633564800&v=beta&t=OT6Mp5F15kLN1e3m_0IyLWJ3xuGvxSI2JTqJHiuNtn0',\n",
       " 'img_800_800': '800_800/0/1567067924579?e=1633564800&v=beta&t=nVnd11j6bsfCCIfG0FJvrwKd005O-Yzl8rPxYW15Hd8',\n",
       " 'profile_id': 'ACoAACApXbMBPPARPoVUsrwGdQPy7YUiU6-KBco',\n",
       " 'profile_urn': 'urn:li:fs_miniProfile:ACoAACApXbMBPPARPoVUsrwGdQPy7YUiU6-KBco',\n",
       " 'member_urn': 'urn:li:member:539581875',\n",
       " 'experience': [{'locationName': 'Hong Kong SAR',\n",
       "   'entityUrn': 'urn:li:fs_position:(ACoAACApXbMBPPARPoVUsrwGdQPy7YUiU6-KBco,1814598181)',\n",
       "   'geoLocationName': 'Hong Kong SAR',\n",
       "   'geoUrn': 'urn:li:fs_geo:103291313',\n",
       "   'companyName': 'Deutsche Bank',\n",
       "   'timePeriod': {'startDate': {'month': 7, 'year': 2021}},\n",
       "   'company': {'employeeCountRange': {'start': 10001},\n",
       "    'industries': ['Financial Services']},\n",
       "   'title': 'Investment Banking Analyst',\n",
       "   'region': 'urn:li:fs_region:(hk,0)',\n",
       "   'companyUrn': 'urn:li:fs_miniCompany:1262',\n",
       "   'companyLogoUrl': 'https://media-exp1.licdn.com/dms/image/C4D0BAQHQDg1668ddjw/company-logo_'},\n",
       "  {'locationName': 'Shanghai, China',\n",
       "   'entityUrn': 'urn:li:fs_position:(ACoAACApXbMBPPARPoVUsrwGdQPy7YUiU6-KBco,1759825571)',\n",
       "   'geoLocationName': 'Shanghai, China',\n",
       "   'geoUrn': 'urn:li:fs_geo:102772228',\n",
       "   'companyName': 'CBC Group',\n",
       "   'timePeriod': {'endDate': {'month': 6, 'year': 2021},\n",
       "    'startDate': {'month': 3, 'year': 2021}},\n",
       "   'company': {'employeeCountRange': {'start': 51, 'end': 200},\n",
       "    'industries': ['Venture Capital & Private Equity']},\n",
       "   'title': 'Healthcare Private Equity Intern',\n",
       "   'region': 'urn:li:fs_region:(cn,0)',\n",
       "   'companyUrn': 'urn:li:fs_miniCompany:18327685',\n",
       "   'companyLogoUrl': 'https://media-exp1.licdn.com/dms/image/C510BAQEkaQ4qeXhxXA/company-logo_'},\n",
       "  {'locationName': 'Hong Kong SAR',\n",
       "   'entityUrn': 'urn:li:fs_position:(ACoAACApXbMBPPARPoVUsrwGdQPy7YUiU6-KBco,1635660365)',\n",
       "   'geoLocationName': 'Hong Kong SAR',\n",
       "   'geoUrn': 'urn:li:fs_geo:103291313',\n",
       "   'companyName': 'Deutsche Bank',\n",
       "   'timePeriod': {'endDate': {'month': 8, 'year': 2020},\n",
       "    'startDate': {'month': 7, 'year': 2020}},\n",
       "   'description': 'Return offer extended',\n",
       "   'company': {'employeeCountRange': {'start': 10001},\n",
       "    'industries': ['Financial Services']},\n",
       "   'title': 'Investment Banking Summer Analyst',\n",
       "   'region': 'urn:li:fs_region:(hk,0)',\n",
       "   'companyUrn': 'urn:li:fs_miniCompany:1262',\n",
       "   'companyLogoUrl': 'https://media-exp1.licdn.com/dms/image/C4D0BAQHQDg1668ddjw/company-logo_'},\n",
       "  {'locationName': 'Shenzhen & Shanghai',\n",
       "   '$anti_abuse_annotations': [{'attributeId': 26, 'entityId': 2},\n",
       "    {'attributeId': 14, 'entityId': 2},\n",
       "    {'attributeId': 16, 'entityId': 2},\n",
       "    {'attributeId': 36, 'entityId': 2}],\n",
       "   'entityUrn': 'urn:li:fs_position:(ACoAACApXbMBPPARPoVUsrwGdQPy7YUiU6-KBco,1633534681)',\n",
       "   'geoLocationName': 'Shenzhen & Shanghai',\n",
       "   'companyName': 'Essence Fund Management',\n",
       "   'timePeriod': {'endDate': {'month': 8, 'year': 2019},\n",
       "    'startDate': {'month': 6, 'year': 2019}},\n",
       "   'description': 'Mining industry focus',\n",
       "   'title': 'Equity Research Summer Analyst'},\n",
       "  {'locationName': 'Shanghai China',\n",
       "   'entityUrn': 'urn:li:fs_position:(ACoAACApXbMBPPARPoVUsrwGdQPy7YUiU6-KBco,1380549326)',\n",
       "   'geoLocationName': 'Shanghai China',\n",
       "   'companyName': 'BNP Paribas',\n",
       "   'timePeriod': {'endDate': {'month': 10, 'year': 2018},\n",
       "    'startDate': {'month': 6, 'year': 2018}},\n",
       "   'description': 'DCM-Securitization Panda Formosa IG',\n",
       "   'company': {'employeeCountRange': {'start': 10001},\n",
       "    'industries': ['Banking']},\n",
       "   'title': 'Investment Banking Seasonal Analyst',\n",
       "   'companyUrn': 'urn:li:fs_miniCompany:1508',\n",
       "   'companyLogoUrl': 'https://media-exp1.licdn.com/dms/image/C4D0BAQEtlPGUcYkr_A/company-logo_'}],\n",
       " 'education': [{'entityUrn': 'urn:li:fs_education:(ACoAACApXbMBPPARPoVUsrwGdQPy7YUiU6-KBco,598329004)',\n",
       "   'school': {'objectUrn': 'urn:li:school:18314',\n",
       "    'entityUrn': 'urn:li:fs_miniSchool:18314',\n",
       "    'active': True,\n",
       "    'schoolName': 'University of Chicago',\n",
       "    'trackingId': 'IdG4eKx+TiaWyBibHQ1S/w==',\n",
       "    'logoUrl': 'https://media-exp1.licdn.com/dms/image/C4D0BAQHbp_dv8CAlpQ/company-logo_'},\n",
       "   'timePeriod': {'endDate': {'year': 2020}, 'startDate': {'year': 2019}},\n",
       "   'fieldOfStudyUrn': 'urn:li:fs_fieldOfStudy:100701',\n",
       "   'degreeName': 'Master of Science - MS',\n",
       "   'schoolName': 'University of Chicago',\n",
       "   'fieldOfStudy': 'Financial Mathematics',\n",
       "   'degreeUrn': 'urn:li:fs_degree:626',\n",
       "   'schoolUrn': 'urn:li:fs_miniSchool:18314'},\n",
       "  {'entityUrn': 'urn:li:fs_education:(ACoAACApXbMBPPARPoVUsrwGdQPy7YUiU6-KBco,373912611)',\n",
       "   'school': {'objectUrn': 'urn:li:school:12879',\n",
       "    'entityUrn': 'urn:li:fs_miniSchool:12879',\n",
       "    'active': True,\n",
       "    'schoolName': 'The Hong Kong University of Science and Technology',\n",
       "    'trackingId': '+0gQDDFGRoeGi+Da7peOKQ==',\n",
       "    'logoUrl': 'https://media-exp1.licdn.com/dms/image/C4E0BAQH4YoQ1L_piMg/company-logo_'},\n",
       "   'activities': 'Mainland Students and Scholars Society, UG Section - Promotion Secretary',\n",
       "   'timePeriod': {'endDate': {'year': 2019}, 'startDate': {'year': 2015}},\n",
       "   'degreeName': 'Bachelor of Science - BS',\n",
       "   'schoolName': 'The Hong Kong University of Science and Technology',\n",
       "   'fieldOfStudy': 'Quantitative Finance',\n",
       "   'degreeUrn': 'urn:li:fs_degree:400',\n",
       "   'schoolUrn': 'urn:li:fs_miniSchool:12879'},\n",
       "  {'entityUrn': 'urn:li:fs_education:(ACoAACApXbMBPPARPoVUsrwGdQPy7YUiU6-KBco,614255786)',\n",
       "   'school': {'objectUrn': 'urn:li:school:18458',\n",
       "    'entityUrn': 'urn:li:fs_miniSchool:18458',\n",
       "    'active': True,\n",
       "    'schoolName': 'Boston College Carroll School of Management',\n",
       "    'trackingId': '+KRkbR7TSM60k10P6yXhbw==',\n",
       "    'logoUrl': 'https://media-exp1.licdn.com/dms/image/C4E0BAQGWIVnR5H_XOw/company-logo_'},\n",
       "   'timePeriod': {'endDate': {'year': 2018}, 'startDate': {'year': 2018}},\n",
       "   'degreeName': 'Semester Exchange Program',\n",
       "   'schoolName': 'Boston College Carroll School of Management',\n",
       "   'fieldOfStudy': 'Banking, Valuation Analysis, and Securities Law',\n",
       "   'schoolUrn': 'urn:li:fs_miniSchool:18458'}],\n",
       " 'languages': [],\n",
       " 'publications': [],\n",
       " 'certifications': [],\n",
       " 'volunteer': [],\n",
       " 'honors': []}"
      ]
     },
     "execution_count": 4,
     "metadata": {},
     "output_type": "execute_result"
    }
   ],
   "source": [
    "data[1]"
   ]
  },
  {
   "cell_type": "code",
   "execution_count": 5,
   "metadata": {},
   "outputs": [
    {
     "data": {
      "text/plain": [
       "{'industryName': 'Investment Banking/Venture',\n",
       " 'lastName': 'Ngai',\n",
       " 'student': False,\n",
       " 'geoCountryName': 'Hong Kong SAR',\n",
       " 'geoCountryUrn': 'urn:li:fs_geo:103291313',\n",
       " 'geoLocationBackfilled': False,\n",
       " 'elt': True,\n",
       " 'industryUrn': 'urn:li:fs_industry:45',\n",
       " 'firstName': 'Elvis',\n",
       " 'entityUrn': 'urn:li:fs_profile:ACoAAB2QNFQBb9_CuNReCkYUn8rQmXLiKVD4-FQ',\n",
       " 'geoLocation': {'geoUrn': 'urn:li:fs_geo:102817007'},\n",
       " 'geoLocationName': 'Hong Kong',\n",
       " 'location': {'basicLocation': {'countryCode': 'hk'}},\n",
       " 'headline': 'Investment Banking Analyst at CICC',\n",
       " 'profile_id': 'ACoAAB2QNFQBb9_CuNReCkYUn8rQmXLiKVD4-FQ',\n",
       " 'profile_urn': 'urn:li:fs_miniProfile:ACoAAB2QNFQBb9_CuNReCkYUn8rQmXLiKVD4-FQ',\n",
       " 'member_urn': 'urn:li:member:495989844',\n",
       " 'experience': [{'locationName': 'Hong Kong SAR',\n",
       "   'entityUrn': 'urn:li:fs_position:(ACoAAB2QNFQBb9_CuNReCkYUn8rQmXLiKVD4-FQ,1634878879)',\n",
       "   'geoLocationName': 'Hong Kong SAR',\n",
       "   'geoUrn': 'urn:li:fs_geo:103291313',\n",
       "   'companyName': 'CICC',\n",
       "   'timePeriod': {'startDate': {'year': 2020}},\n",
       "   'description': 'Capital Markets and M&A',\n",
       "   'company': {'employeeCountRange': {'start': 5001, 'end': 10000},\n",
       "    'industries': ['Investment Banking']},\n",
       "   'title': 'Investment Banking Analyst',\n",
       "   'region': 'urn:li:fs_region:(hk,0)',\n",
       "   'companyUrn': 'urn:li:fs_miniCompany:22926',\n",
       "   'companyLogoUrl': 'https://media-exp1.licdn.com/dms/image/C560BAQHEsNNMLYnU8g/company-logo_'},\n",
       "  {'locationName': 'Hong Kong SAR',\n",
       "   'entityUrn': 'urn:li:fs_position:(ACoAAB2QNFQBb9_CuNReCkYUn8rQmXLiKVD4-FQ,1634881605)',\n",
       "   'geoLocationName': 'Hong Kong SAR',\n",
       "   'geoUrn': 'urn:li:fs_geo:103291313',\n",
       "   'companyName': 'Neuberger Berman',\n",
       "   'timePeriod': {'endDate': {'year': 2020}, 'startDate': {'year': 2020}},\n",
       "   'description': 'Primaries, Secondaries, and Co-investments\\n• Sector experience: biopharmaceutical, education, TMT, etc.\\n• Geography: China, India, and Japan',\n",
       "   'company': {'employeeCountRange': {'start': 1001, 'end': 5000},\n",
       "    'industries': ['Financial Services']},\n",
       "   'title': 'Private Equity Asia',\n",
       "   'region': 'urn:li:fs_region:(hk,0)',\n",
       "   'companyUrn': 'urn:li:fs_miniCompany:165170',\n",
       "   'companyLogoUrl': 'https://media-exp1.licdn.com/dms/image/C4D0BAQGwHig7LYEoVw/company-logo_'},\n",
       "  {'locationName': 'Hong Kong SAR',\n",
       "   'entityUrn': 'urn:li:fs_position:(ACoAAB2QNFQBb9_CuNReCkYUn8rQmXLiKVD4-FQ,1468041830)',\n",
       "   'geoLocationName': 'Hong Kong SAR',\n",
       "   'geoUrn': 'urn:li:fs_geo:103291313',\n",
       "   'companyName': 'J.P. Morgan',\n",
       "   'timePeriod': {'endDate': {'year': 2019}, 'startDate': {'year': 2018}},\n",
       "   'description': \"Investment Banking Division\\n• Leveraged Finance & DCM (Ratings Advisory)\\n• Select deal experience: US$1.35bn M&A financing for Huazhu Group (Nasdaq: HTHT)'s acquisition of Deutsche Hospitality and debut rating advisory for Xiaomi (1810.HK) (Baa2/BBB-/BBB)\\n\\nGlobal Markets \\n• Cross Asset Structuring & Local Market Sales\",\n",
       "   'company': {'employeeCountRange': {'start': 10001},\n",
       "    'industries': ['Financial Services']},\n",
       "   'title': 'AxJ Investment Banking & Global Markets',\n",
       "   'region': 'urn:li:fs_region:(hk,0)',\n",
       "   'companyUrn': 'urn:li:fs_miniCompany:1067',\n",
       "   'companyLogoUrl': 'https://media-exp1.licdn.com/dms/image/C4E0BAQGvyWbgDy4E3A/company-logo_'},\n",
       "  {'locationName': 'Hong Kong SAR',\n",
       "   'entityUrn': 'urn:li:fs_position:(ACoAAB2QNFQBb9_CuNReCkYUn8rQmXLiKVD4-FQ,1547111865)',\n",
       "   'geoLocationName': 'Hong Kong SAR',\n",
       "   'geoUrn': 'urn:li:fs_geo:103291313',\n",
       "   'companyName': 'XpRelay Network',\n",
       "   'timePeriod': {'endDate': {'year': 2019}, 'startDate': {'year': 2016}},\n",
       "   'description': 'Strategy & Business Development',\n",
       "   'company': {'employeeCountRange': {'start': 2, 'end': 10},\n",
       "    'industries': ['Human Resources']},\n",
       "   'title': 'Co-Founder - Strategy & BD',\n",
       "   'region': 'urn:li:fs_region:(hk,0)',\n",
       "   'companyUrn': 'urn:li:fs_miniCompany:13221179',\n",
       "   'companyLogoUrl': 'https://media-exp1.licdn.com/dms/image/C510BAQFuppUQ51kMkw/company-logo_'},\n",
       "  {'locationName': 'Hong Kong SAR',\n",
       "   'entityUrn': 'urn:li:fs_position:(ACoAAB2QNFQBb9_CuNReCkYUn8rQmXLiKVD4-FQ,1016387903)',\n",
       "   'geoLocationName': 'Hong Kong SAR',\n",
       "   'geoUrn': 'urn:li:fs_geo:103291313',\n",
       "   'companyName': 'UBS',\n",
       "   'timePeriod': {'endDate': {'year': 2017}, 'startDate': {'year': 2017}},\n",
       "   'description': 'Investments & Transactions',\n",
       "   'company': {'employeeCountRange': {'start': 10001},\n",
       "    'industries': ['Financial Services']},\n",
       "   'title': 'Greater China Real Estate Private Equity',\n",
       "   'region': 'urn:li:fs_region:(hk,0)',\n",
       "   'companyUrn': 'urn:li:fs_miniCompany:1214',\n",
       "   'companyLogoUrl': 'https://media-exp1.licdn.com/dms/image/C560BAQEshkSDzwMJ4g/company-logo_'}],\n",
       " 'education': [{'entityUrn': 'urn:li:fs_education:(ACoAAB2QNFQBb9_CuNReCkYUn8rQmXLiKVD4-FQ,339020743)',\n",
       "   'school': {'objectUrn': 'urn:li:school:12881',\n",
       "    'entityUrn': 'urn:li:fs_miniSchool:12881',\n",
       "    'active': True,\n",
       "    'schoolName': 'The University of Hong Kong',\n",
       "    'trackingId': 'mqdNOOnIRy+zn0jiNv3rcg==',\n",
       "    'logoUrl': 'https://media-exp1.licdn.com/dms/image/C4D0BAQEubCTgcfA2sQ/company-logo_'},\n",
       "   'activities': 'IBGM Denmark Field Trip | Peak Time Latvia Case Competition | Golden Z Sri Lanka Service Trip | Golden Z Indonesia Gender Equality Service Trip | AIESEC Korea Conference',\n",
       "   'grade': 'First Class Honours',\n",
       "   'timePeriod': {'endDate': {'year': 2019}, 'startDate': {'year': 2015}},\n",
       "   'description': \"Scholarships & Academic Awards\\u2028\\n• Hong Kong Jockey Club Scholarships (Full Scholarship) '15-20\\n• Dean’s Honours List '15-17\\n• Shanghai Commercial Bank Scholarships '15-16, '18-19\\n• Lee Shau Kee Scholarship '17-18\\n• HKSAR Talent Development Scholarships '17-18, '19-20\\n• HKU FBE Entrance Scholarship '15-16\\n\\nInnovation\\u2028\\n• HKSTP Science and Technology Entrepreneur Programme '19\\n• CUHK Pre-Incubation Centre Incubation '19\\n• 2nd Runner-Up of National Round, Global Legal Hackathon '19 \\n• Champion, Societe Generale FinTech Hackathon '18\\n• Cyberport CUPP FinTech Programme '18\\n• Cyberport Incubation Programme '17\\n• Cyberport Creative Micro Fund '16 & '17\\n\\nCase Competitions\\n\\u2028• 2nd Runner-Up, Ivey Business School Scotiabank International Case Competition '19\\n• Global Finalist, Peak Time '17\\n• Champion, HNA Business Innovation Challenge '16\\n• 2nd Runner-Up & Best Written Report, HKICPA Business Case Competition '16\\n• BCG Consulting Simulation, The Boston Consulting Group\",\n",
       "   'degreeName': 'Bachelor of Business Administration (BBA)',\n",
       "   'schoolName': 'The University of Hong Kong',\n",
       "   'fieldOfStudy': 'International Business and Global Management (IBGM); 2nd Major in Finance',\n",
       "   'schoolUrn': 'urn:li:fs_miniSchool:12881'},\n",
       "  {'entityUrn': 'urn:li:fs_education:(ACoAAB2QNFQBb9_CuNReCkYUn8rQmXLiKVD4-FQ,550052903)',\n",
       "   'school': {'objectUrn': 'urn:li:school:18315',\n",
       "    'entityUrn': 'urn:li:fs_miniSchool:18315',\n",
       "    'active': True,\n",
       "    'schoolName': 'The University of Chicago Booth School of Business',\n",
       "    'trackingId': 'F8GFVwLxTfyrJPo1oXndEQ==',\n",
       "    'logoUrl': 'https://media-exp1.licdn.com/dms/image/C560BAQG2EMlnW7YBuQ/company-logo_'},\n",
       "   'timePeriod': {'endDate': {'year': 2018}, 'startDate': {'year': 2018}},\n",
       "   'degreeName': 'Visiting Student',\n",
       "   'schoolName': 'The University of Chicago Booth School of Business',\n",
       "   'fieldOfStudy': 'Finance; Technology; Business',\n",
       "   'schoolUrn': 'urn:li:fs_miniSchool:18315'},\n",
       "  {'entityUrn': 'urn:li:fs_education:(ACoAAB2QNFQBb9_CuNReCkYUn8rQmXLiKVD4-FQ,412640374)',\n",
       "   'school': {'objectUrn': 'urn:li:school:12601',\n",
       "    'entityUrn': 'urn:li:fs_miniSchool:12601',\n",
       "    'active': True,\n",
       "    'schoolName': \"King's College London\",\n",
       "    'trackingId': 'XUvITfyEQaCQe6KZk2OSIA==',\n",
       "    'logoUrl': 'https://media-exp1.licdn.com/dms/image/C560BAQEsapaVYleavg/company-logo_'},\n",
       "   'timePeriod': {'endDate': {'year': 2018,\n",
       "     '$anti_abuse_annotations': [{'attributeId': 19, 'entityId': 3}]},\n",
       "    'startDate': {'year': 2018,\n",
       "     '$anti_abuse_annotations': [{'attributeId': 35, 'entityId': 3}]}},\n",
       "   'degreeName': 'Academic Exchange',\n",
       "   'schoolName': \"King's College London\",\n",
       "   'fieldOfStudy': 'Law; International Business; Art & Archaeology',\n",
       "   'degreeUrn': 'urn:li:fs_degree:450',\n",
       "   'schoolUrn': 'urn:li:fs_miniSchool:12601'}],\n",
       " 'languages': [{'name': 'Cantonese', 'proficiency': 'NATIVE_OR_BILINGUAL'},\n",
       "  {'name': 'English', 'proficiency': 'FULL_PROFESSIONAL'},\n",
       "  {'name': 'Mandarin', 'proficiency': 'FULL_PROFESSIONAL'}],\n",
       " 'publications': [],\n",
       " 'certifications': [{'authority': 'PADI',\n",
       "   'name': 'Advanced Open Water Diver',\n",
       "   'timePeriod': {'startDate': {'year': 2019}},\n",
       "   'company': {'objectUrn': 'urn:li:company:165383',\n",
       "    'entityUrn': 'urn:li:fs_miniCompany:165383',\n",
       "    'name': 'PADI',\n",
       "    'showcase': False,\n",
       "    'active': True,\n",
       "    'logo': {'com.linkedin.common.VectorImage': {'artifacts': [{'width': 200,\n",
       "        'fileIdentifyingUrlPathSegment': '200_200/0/1538160453888?e=1636588800&v=beta&t=fVLGKx38dXlXKuGEAHl4wtuuFG093p8c6506Ssij9c8',\n",
       "        'expiresAt': 1636588800000,\n",
       "        'height': 200},\n",
       "       {'width': 100,\n",
       "        'fileIdentifyingUrlPathSegment': '100_100/0/1538160453888?e=1636588800&v=beta&t=zy2R-KHv1qD1F_EzKu5y8cHJmQma8HCyCm52IITo3wc',\n",
       "        'expiresAt': 1636588800000,\n",
       "        'height': 100},\n",
       "       {'width': 400,\n",
       "        'fileIdentifyingUrlPathSegment': '400_400/0/1538160453888?e=1636588800&v=beta&t=A7A-liv-6sMKdhjvwO6FzpELakP4VEh73rr3Q3LiObs',\n",
       "        'expiresAt': 1636588800000,\n",
       "        'height': 400}],\n",
       "      'rootUrl': 'https://media-exp1.licdn.com/dms/image/C4D0BAQGt15EDpU4Jhg/company-logo_'}},\n",
       "    'universalName': 'padi',\n",
       "    'dashCompanyUrn': 'urn:li:fsd_company:165383',\n",
       "    'trackingId': 'CFh7NqbITQOWJgA4hbDQIw=='},\n",
       "   'companyUrn': 'urn:li:fs_miniCompany:165383'},\n",
       "  {'authority': 'PADI',\n",
       "   'name': 'Rescue Diver',\n",
       "   'timePeriod': {'startDate': {'year': 2020}},\n",
       "   'company': {'objectUrn': 'urn:li:company:165383',\n",
       "    'entityUrn': 'urn:li:fs_miniCompany:165383',\n",
       "    'name': 'PADI',\n",
       "    'showcase': False,\n",
       "    'active': True,\n",
       "    'logo': {'com.linkedin.common.VectorImage': {'artifacts': [{'width': 200,\n",
       "        'fileIdentifyingUrlPathSegment': '200_200/0/1538160453888?e=1636588800&v=beta&t=fVLGKx38dXlXKuGEAHl4wtuuFG093p8c6506Ssij9c8',\n",
       "        'expiresAt': 1636588800000,\n",
       "        'height': 200},\n",
       "       {'width': 100,\n",
       "        'fileIdentifyingUrlPathSegment': '100_100/0/1538160453888?e=1636588800&v=beta&t=zy2R-KHv1qD1F_EzKu5y8cHJmQma8HCyCm52IITo3wc',\n",
       "        'expiresAt': 1636588800000,\n",
       "        'height': 100},\n",
       "       {'width': 400,\n",
       "        'fileIdentifyingUrlPathSegment': '400_400/0/1538160453888?e=1636588800&v=beta&t=A7A-liv-6sMKdhjvwO6FzpELakP4VEh73rr3Q3LiObs',\n",
       "        'expiresAt': 1636588800000,\n",
       "        'height': 400}],\n",
       "      'rootUrl': 'https://media-exp1.licdn.com/dms/image/C4D0BAQGt15EDpU4Jhg/company-logo_'}},\n",
       "    'universalName': 'padi',\n",
       "    'dashCompanyUrn': 'urn:li:fsd_company:165383',\n",
       "    'trackingId': 'Lg2Xx+TSRcaAK2IxvbuOzw=='},\n",
       "   'companyUrn': 'urn:li:fs_miniCompany:165383'}],\n",
       " 'volunteer': [{'role': 'YPC Councilor',\n",
       "   'companyName': 'Hong Kong Securities and Investment Institute',\n",
       "   'timePeriod': {'startDate': {'year': 2019}},\n",
       "   'company': {'miniCompany': {'objectUrn': 'urn:li:company:850575',\n",
       "     'entityUrn': 'urn:li:fs_miniCompany:850575',\n",
       "     'name': 'Hong Kong Securities and Investment Institute',\n",
       "     'showcase': False,\n",
       "     'active': True,\n",
       "     'logo': {'com.linkedin.common.VectorImage': {'artifacts': [{'width': 200,\n",
       "         'fileIdentifyingUrlPathSegment': '200_200/0/1553845324764?e=1636588800&v=beta&t=AKcfs5FRiGXdRmHfYaBAfH5bMdVkqoL5P0OBfIQqrBA',\n",
       "         'expiresAt': 1636588800000,\n",
       "         'height': 200},\n",
       "        {'width': 100,\n",
       "         'fileIdentifyingUrlPathSegment': '100_100/0/1553845324764?e=1636588800&v=beta&t=YC4H3YNcCyhLpI9Q6jZ5KPQXA_DuUoyJD8h0vIr8otw',\n",
       "         'expiresAt': 1636588800000,\n",
       "         'height': 100},\n",
       "        {'width': 400,\n",
       "         'fileIdentifyingUrlPathSegment': '400_400/0/1553845324764?e=1636588800&v=beta&t=eAWeZZKBRH-aCqBSVInh10S31fMqMLJNrRE9D7ITjPM',\n",
       "         'expiresAt': 1636588800000,\n",
       "         'height': 400}],\n",
       "       'rootUrl': 'https://media-exp1.licdn.com/dms/image/C510BAQGyBZQK3k2-Cw/company-logo_'}},\n",
       "     'universalName': 'hong-kong-securities-and-investment-institute',\n",
       "     'dashCompanyUrn': 'urn:li:fsd_company:850575',\n",
       "     'trackingId': 'PjeWYg2dSgKFoe48Zo4Iqw=='}},\n",
       "   'companyUrn': 'urn:li:fs_miniCompany:850575'},\n",
       "  {'role': 'Master of Ceremonies/Volunteer',\n",
       "   'companyName': 'The Hong Kong Jockey Club',\n",
       "   'timePeriod': {'startDate': {'year': 2017}},\n",
       "   'cause': 'SOCIAL_SERVICES',\n",
       "   'company': {'miniCompany': {'objectUrn': 'urn:li:company:22867',\n",
       "     'entityUrn': 'urn:li:fs_miniCompany:22867',\n",
       "     'name': 'The Hong Kong Jockey Club',\n",
       "     'showcase': False,\n",
       "     'active': True,\n",
       "     'logo': {'com.linkedin.common.VectorImage': {'artifacts': [{'width': 200,\n",
       "         'fileIdentifyingUrlPathSegment': '200_200/0/1519855995118?e=1636588800&v=beta&t=Bj-EWJxbU6zYTz0B1bxmUyZq0O6-7Q5rzDZbM3azFP4',\n",
       "         'expiresAt': 1636588800000,\n",
       "         'height': 200},\n",
       "        {'width': 100,\n",
       "         'fileIdentifyingUrlPathSegment': '100_100/0/1519855995118?e=1636588800&v=beta&t=N0HL_J5H3WakFXDUyO7Dry-k0puGn8HD8uyXn63GF5s',\n",
       "         'expiresAt': 1636588800000,\n",
       "         'height': 100},\n",
       "        {'width': 400,\n",
       "         'fileIdentifyingUrlPathSegment': '400_400/0/1519855995118?e=1636588800&v=beta&t=BCtjQ0NZtfMXP-NM1aJonxCIvbKMPoQ2ZcLjDttpOws',\n",
       "         'expiresAt': 1636588800000,\n",
       "         'height': 400}],\n",
       "       'rootUrl': 'https://media-exp1.licdn.com/dms/image/C4E0BAQGFIa863-XL2g/company-logo_'}},\n",
       "     'universalName': 'hkjc',\n",
       "     'dashCompanyUrn': 'urn:li:fsd_company:22867',\n",
       "     'trackingId': 'nV969h6tRyK6Iur9lEzupw=='}},\n",
       "   'companyUrn': 'urn:li:fs_miniCompany:22867'},\n",
       "  {'role': 'Master of Ceremonies',\n",
       "   'companyName': 'Financial Services Development Council',\n",
       "   'timePeriod': {'endDate': {'year': 2017}, 'startDate': {'year': 2017}},\n",
       "   'company': {'miniCompany': {'objectUrn': 'urn:li:company:14679569',\n",
       "     'entityUrn': 'urn:li:fs_miniCompany:14679569',\n",
       "     'name': 'Financial Services Development Council',\n",
       "     'showcase': False,\n",
       "     'active': True,\n",
       "     'logo': {'com.linkedin.common.VectorImage': {'artifacts': [{'width': 200,\n",
       "         'fileIdentifyingUrlPathSegment': '200_200/0/1561520991789?e=1636588800&v=beta&t=jN0LigGSQORUVTtxvKyBlys8NR6XKfy9yP1iGnEJoqU',\n",
       "         'expiresAt': 1636588800000,\n",
       "         'height': 200},\n",
       "        {'width': 100,\n",
       "         'fileIdentifyingUrlPathSegment': '100_100/0/1561520991789?e=1636588800&v=beta&t=GsWcu3slp-z89UirIUcj-wuoR88d0IvTAivcuWtVlmw',\n",
       "         'expiresAt': 1636588800000,\n",
       "         'height': 100},\n",
       "        {'width': 400,\n",
       "         'fileIdentifyingUrlPathSegment': '400_400/0/1561520991789?e=1636588800&v=beta&t=cXNR9cqLYgdOqF7R4oIczcaWl3QsXhARV5czsK7JtTg',\n",
       "         'expiresAt': 1636588800000,\n",
       "         'height': 400}],\n",
       "       'rootUrl': 'https://media-exp1.licdn.com/dms/image/C510BAQGtGSnyiJkyhg/company-logo_'}},\n",
       "     'universalName': 'financial-services-development-council',\n",
       "     'dashCompanyUrn': 'urn:li:fsd_company:14679569',\n",
       "     'trackingId': 'ORlG7jdaQ66P4mvVkf7CAg=='}},\n",
       "   'companyUrn': 'urn:li:fs_miniCompany:14679569'}],\n",
       " 'honors': [{'title': 'HKSAR Talent Development Scholarship',\n",
       "   'issueDate': {'year': 2020},\n",
       "   'issuer': 'HKSAR Government '},\n",
       "  {'title': 'Hong Kong Jockey Club Scholarships - Undergraduate Scholarship 19/20',\n",
       "   'issueDate': {'year': 2020},\n",
       "   'issuer': 'Hong Kong Jockey Club Charity Trust'},\n",
       "  {'title': '2nd Runner-Up of Ivey Business School Scotiabank International Case Competition 2019',\n",
       "   'issueDate': {'year': 2019},\n",
       "   'issuer': 'Ivey Business School / Scotiabank'},\n",
       "  {'title': '2nd Runner-Up of National Round, Global Legal Hackathon 2019',\n",
       "   'issueDate': {'year': 2019},\n",
       "   'issuer': 'The Global Legal Hackathon'},\n",
       "  {'title': 'CUHK Pre-Incubation Centre Incubation 2019',\n",
       "   'issueDate': {'year': 2019},\n",
       "   'issuer': 'The Chinese University of Hong Kong'},\n",
       "  {'title': 'Hong Kong Jockey Club Scholarships - Undergraduate Scholarship 18/19',\n",
       "   'issueDate': {'year': 2019},\n",
       "   'issuer': 'Hong Kong Jockey Club Charity Trust'},\n",
       "  {'title': 'Shanghai Commercial Bank Scholarship 18/19',\n",
       "   'issueDate': {'year': 2019},\n",
       "   'issuer': 'Shanghai Commercial Bank Limited'},\n",
       "  {'title': 'The Science and Technology Entrepreneur Programme (STEP) 2019',\n",
       "   'issueDate': {'year': 2019},\n",
       "   'issuer': 'Hong Kong Science Park'},\n",
       "  {'title': 'Champion, Societe Generale FinTech Hackathon 2018',\n",
       "   'issueDate': {'month': 7, 'year': 2018},\n",
       "   'issuer': 'Societe Generale'},\n",
       "  {'title': 'HKSAR Reach Out Award',\n",
       "   'issueDate': {'year': 2018},\n",
       "   'issuer': 'HKSAR Government '}]}"
      ]
     },
     "execution_count": 5,
     "metadata": {},
     "output_type": "execute_result"
    }
   ],
   "source": [
    "data[2]"
   ]
  },
  {
   "cell_type": "code",
   "execution_count": null,
   "metadata": {},
   "outputs": [],
   "source": []
  },
  {
   "cell_type": "code",
   "execution_count": 8,
   "metadata": {},
   "outputs": [],
   "source": [
    "urn =[]\n",
    "for k in range(len(data)):\n",
    "    urn.append(data[k]['member_urn'])"
   ]
  },
  {
   "cell_type": "code",
   "execution_count": 9,
   "metadata": {},
   "outputs": [],
   "source": [
    "data = pd.DataFrame(urn)"
   ]
  },
  {
   "cell_type": "code",
   "execution_count": 24,
   "metadata": {},
   "outputs": [
    {
     "name": "stderr",
     "output_type": "stream",
     "text": [
      "<ipython-input-24-fb6f4c933598>:1: FutureWarning: The default value of regex will change from True to False in a future version.\n",
      "  data[0].str.replace(r'\\D', '').astype(int).drop_duplicates().shape[0]\n"
     ]
    },
    {
     "data": {
      "text/plain": [
       "656"
      ]
     },
     "execution_count": 24,
     "metadata": {},
     "output_type": "execute_result"
    }
   ],
   "source": [
    "data[0].str.replace(r'\\D', '').astype(int).drop_duplicates().shape[0]"
   ]
  },
  {
   "cell_type": "code",
   "execution_count": 19,
   "metadata": {},
   "outputs": [
    {
     "data": {
      "text/plain": [
       "656"
      ]
     },
     "execution_count": 19,
     "metadata": {},
     "output_type": "execute_result"
    }
   ],
   "source": [
    "data.drop_duplicates().shape[0]"
   ]
  },
  {
   "cell_type": "code",
   "execution_count": null,
   "metadata": {},
   "outputs": [],
   "source": [
    "und_name = []\n",
    "und_syear = []\n",
    "und_eyear = []\n",
    "lname = []\n",
    "fname = []\n",
    "\n",
    "for i in range(len(data)): \n",
    "    #print(i['education'][0]['timePeriod']['endDate']['year']) \n",
    "   \n",
    "    for k in range(len(data[i]['education'])):\n",
    "        try:\n",
    "             #und_name.append(data[i]['education'][0]['degreeName'])\n",
    "             #und_syear.append(data[i]['education'][0]['timePeriod']['startDate']['year'])\n",
    "             if ('The University of Chicago' in und_eyear.append(data[i]['education'][k]['schollName'])) and ():\n",
    "                fname.append(data[i]['firstName'])\n",
    "                lname.append(data[i]['lastName'])\n",
    "                data[i]['education'][0]['timePeriod']['endDate']['year'])\n",
    "        except KeyError:\n",
    "             und_eyear.append('')\n",
    "            #print(f\"s age is unknown.\")\n",
    "\n",
    "\n",
    "            #und_syear(2021) \n",
    "           "
   ]
  },
  {
   "cell_type": "code",
   "execution_count": 4,
   "metadata": {},
   "outputs": [
    {
     "name": "stdout",
     "output_type": "stream",
     "text": [
      "No\n",
      "No\n",
      "No\n",
      "No\n",
      "No\n",
      "No\n",
      "No\n",
      "No\n",
      "No\n"
     ]
    }
   ],
   "source": [
    "a = []\n",
    "for i in range(len(data)):\n",
    "    try:\n",
    "        a.append(data[i]['industryName'])\n",
    "    except KeyError:\n",
    "        print('No')"
   ]
  },
  {
   "cell_type": "code",
   "execution_count": 6,
   "metadata": {},
   "outputs": [
    {
     "data": {
      "text/plain": [
       "array(['Computer Software', 'Banking', 'Investment Banking/Venture',\n",
       "       'Management Consulting', 'Insurance', 'Financial Services',\n",
       "       'Information Technology & Services', 'Internet',\n",
       "       'Higher Education', 'Research', 'Venture Capital',\n",
       "       'Investment Management', 'Biotechnology', 'Museums & Institutions',\n",
       "       'Public Policy', 'International Affairs', 'Education Management',\n",
       "       'Writing & Editing', 'Hospital & Health Care', 'Law Practice',\n",
       "       'Computer & Network Security', 'Capital Markets', 'Real Estate',\n",
       "       'Retail', 'Market Research', 'Nonprofit Organization Management',\n",
       "       'International Trade & Development',\n",
       "       'Electrical & Electronic Manufacturing', 'Oil & Energy',\n",
       "       'Consumer Services', 'Information Services', 'Pharmaceuticals',\n",
       "       'Legal Services', 'Marketing & Advertising',\n",
       "       'Staffing & Recruiting', 'Consumer Goods',\n",
       "       'Government Administration', 'Fine Art', 'Food & Beverages',\n",
       "       'Import & Export', 'Entertainment', 'Public Relations',\n",
       "       'Wholesale', 'Automotive', 'Human Resources', 'Arts & Crafts',\n",
       "       'Hospitality', 'Packaging & Containers', 'Apparel & Fashion',\n",
       "       'Newspapers', 'Cosmetics'], dtype=object)"
      ]
     },
     "execution_count": 6,
     "metadata": {},
     "output_type": "execute_result"
    }
   ],
   "source": [
    "df22 = pd.DataFrame(a)\n",
    "df22[0].unique()"
   ]
  },
  {
   "cell_type": "code",
   "execution_count": 19,
   "metadata": {},
   "outputs": [
    {
     "name": "stdout",
     "output_type": "stream",
     "text": [
      "Elvis Ngai , data[num]: 2\n",
      "\n",
      "Chris (Weiwen) Ju , data[num]: 6\n",
      "Olivia Chen , data[num]: 14\n",
      "\n",
      "Joey Leung , data[num]: 44\n",
      "Matthew (Kang Seok) Oh , data[num]: 53\n",
      "\n",
      "Rachel Li , data[num]: 56\n",
      "Samuel Thong , data[num]: 62\n",
      "\n",
      "\n",
      "Joshua Lam , data[num]: 86\n",
      "\n",
      "Yukun Zhang , data[num]: 105\n",
      "Alexander Weng , data[num]: 110\n",
      "\n",
      "Sky Gong , data[num]: 152\n",
      "Cindy Z. , data[num]: 154\n",
      "Shihting Xu , data[num]: 155\n",
      "Alessandro R. , data[num]: 161\n",
      "Clara Wu , data[num]: 162\n",
      "\n",
      "Joe Lai, CFA , data[num]: 191\n",
      "Tina Hanting Li , data[num]: 195\n",
      "Justin Zhang , data[num]: 208\n",
      "Adrian Ma , data[num]: 213\n",
      "Patrick Kaye , data[num]: 256\n",
      "Key, Shangyi Li , data[num]: 276\n",
      "Yuming He , data[num]: 282\n",
      "Hailei Lu, CPA , data[num]: 319\n",
      "Eric Xinpei TANG , data[num]: 330\n",
      "Vivian Xu , data[num]: 338\n",
      "Iris Zhang , data[num]: 344\n",
      "Michael Pang , data[num]: 361\n",
      "Claire Zhang , data[num]: 373\n",
      "Christopher Li , data[num]: 379\n",
      "Ting Peng , data[num]: 410\n",
      "Xiaoxin (Cathy) Wen , data[num]: 418\n",
      "\n",
      "Hang Yin , data[num]: 449\n",
      "Zhaoqing (Felicia) Li , data[num]: 501\n",
      "Chris Tam , data[num]: 550\n",
      "Jason Chiu , data[num]: 597\n",
      "Qianhui (Victoria) Ren , data[num]: 652\n"
     ]
    }
   ],
   "source": [
    "for i in range(len(data)):\n",
    "    try:\n",
    "         if data[i]['industryName']==\"Investment Banking/Venture\":\n",
    "                print(data[i]['firstName'], data[i]['lastName'],\", data[num]:\",i)\n",
    "    except KeyError:\n",
    "        print('')\n",
    "   "
   ]
  },
  {
   "cell_type": "code",
   "execution_count": null,
   "metadata": {},
   "outputs": [],
   "source": []
  },
  {
   "cell_type": "code",
   "execution_count": 1,
   "metadata": {},
   "outputs": [],
   "source": [
    "p = 0.512813**40 *0.487187**40 "
   ]
  },
  {
   "cell_type": "code",
   "execution_count": 3,
   "metadata": {},
   "outputs": [],
   "source": [
    "import math\n",
    "fact = math.factorial(80)/(math.factorial(40)**2)"
   ]
  },
  {
   "cell_type": "code",
   "execution_count": 4,
   "metadata": {},
   "outputs": [],
   "source": [
    "result = p*fact"
   ]
  },
  {
   "cell_type": "code",
   "execution_count": 5,
   "metadata": {},
   "outputs": [
    {
     "data": {
      "text/plain": [
       "0.08662161555400996"
      ]
     },
     "execution_count": 5,
     "metadata": {},
     "output_type": "execute_result"
    }
   ],
   "source": [
    "result"
   ]
  },
  {
   "cell_type": "code",
   "execution_count": 12,
   "metadata": {},
   "outputs": [
    {
     "data": {
      "text/plain": [
       "0.5470714306723669"
      ]
     },
     "execution_count": 12,
     "metadata": {},
     "output_type": "execute_result"
    }
   ],
   "source": [
    "res = 0\n",
    "for i in range(41,80):\n",
    "    res += (math.factorial(80)/(math.factorial(i)*math.factorial(80-i)))*(0.512813**i) * (0.487187**(80-i))\n",
    "res"
   ]
  },
  {
   "cell_type": "code",
   "execution_count": null,
   "metadata": {},
   "outputs": [],
   "source": []
  },
  {
   "cell_type": "code",
   "execution_count": 4,
   "metadata": {},
   "outputs": [
    {
     "data": {
      "application/javascript": [
       "\n",
       "        if (window._pyforest_update_imports_cell) { window._pyforest_update_imports_cell('import numpy as np'); }\n",
       "    "
      ],
      "text/plain": [
       "<IPython.core.display.Javascript object>"
      ]
     },
     "metadata": {},
     "output_type": "display_data"
    },
    {
     "data": {
      "application/javascript": [
       "\n",
       "        if (window._pyforest_update_imports_cell) { window._pyforest_update_imports_cell('import numpy as np'); }\n",
       "    "
      ],
      "text/plain": [
       "<IPython.core.display.Javascript object>"
      ]
     },
     "metadata": {},
     "output_type": "display_data"
    }
   ],
   "source": [
    "A = np.array([[1, -1,1], [1, 1, 1], [4, 2, 1],[9, 3, 1],[25, 5, 1]])\n",
    "A_plus =np.linalg.pinv(A)"
   ]
  },
  {
   "cell_type": "code",
   "execution_count": 7,
   "metadata": {},
   "outputs": [
    {
     "data": {
      "text/plain": [
       "array([[ 0.05952381, -0.03571429, -0.04761905, -0.03571429,  0.05952381],\n",
       "       [-0.38809524,  0.09285714,  0.19047619,  0.19285714, -0.08809524],\n",
       "       [ 0.5       ,  0.3       ,  0.2       ,  0.1       , -0.1       ]])"
      ]
     },
     "execution_count": 7,
     "metadata": {},
     "output_type": "execute_result"
    }
   ],
   "source": [
    "A_plus"
   ]
  },
  {
   "cell_type": "code",
   "execution_count": 5,
   "metadata": {},
   "outputs": [
    {
     "data": {
      "text/plain": [
       "array([[ 1.00000000e+00, -4.85722573e-17,  2.77555756e-17],\n",
       "       [ 4.16333634e-16,  1.00000000e+00, -3.60822483e-16],\n",
       "       [ 1.63757896e-15,  1.94289029e-16,  1.00000000e+00]])"
      ]
     },
     "execution_count": 5,
     "metadata": {},
     "output_type": "execute_result"
    }
   ],
   "source": [
    "A_plus.dot(A)"
   ]
  },
  {
   "cell_type": "code",
   "execution_count": 14,
   "metadata": {},
   "outputs": [
    {
     "data": {
      "application/javascript": [
       "\n",
       "        if (window._pyforest_update_imports_cell) { window._pyforest_update_imports_cell('import numpy as np'); }\n",
       "    "
      ],
      "text/plain": [
       "<IPython.core.display.Javascript object>"
      ]
     },
     "metadata": {},
     "output_type": "display_data"
    }
   ],
   "source": [
    "y = np.array([2,1,1,0,3])\n",
    "res = A_plus.dot(y)"
   ]
  },
  {
   "cell_type": "code",
   "execution_count": 34,
   "metadata": {},
   "outputs": [
    {
     "data": {
      "text/plain": [
       "array([ 0.21428571, -0.75714286,  1.2       ])"
      ]
     },
     "execution_count": 34,
     "metadata": {},
     "output_type": "execute_result"
    }
   ],
   "source": [
    "res"
   ]
  },
  {
   "cell_type": "code",
   "execution_count": 33,
   "metadata": {},
   "outputs": [
    {
     "data": {
      "text/plain": [
       "2.1714285714285735"
      ]
     },
     "execution_count": 33,
     "metadata": {},
     "output_type": "execute_result"
    }
   ],
   "source": [
    "res[0] - res[1] + res[2]"
   ]
  },
  {
   "cell_type": "code",
   "execution_count": 32,
   "metadata": {},
   "outputs": [
    {
     "data": {
      "text/plain": [
       "0.6571428571428584"
      ]
     },
     "execution_count": 32,
     "metadata": {},
     "output_type": "execute_result"
    }
   ],
   "source": [
    "res[0] +res[1] + res[2]"
   ]
  },
  {
   "cell_type": "code",
   "execution_count": 31,
   "metadata": {},
   "outputs": [
    {
     "data": {
      "text/plain": [
       "0.5428571428571438"
      ]
     },
     "execution_count": 31,
     "metadata": {},
     "output_type": "execute_result"
    }
   ],
   "source": [
    "4*res[0]+2*res[1]+res[2]"
   ]
  },
  {
   "cell_type": "code",
   "execution_count": 30,
   "metadata": {},
   "outputs": [
    {
     "data": {
      "text/plain": [
       "0.8571428571428581"
      ]
     },
     "execution_count": 30,
     "metadata": {},
     "output_type": "execute_result"
    }
   ],
   "source": [
    "9*res[0]+3*res[1]+res[2]"
   ]
  },
  {
   "cell_type": "code",
   "execution_count": 29,
   "metadata": {},
   "outputs": [
    {
     "data": {
      "text/plain": [
       "2.771428571428572"
      ]
     },
     "execution_count": 29,
     "metadata": {},
     "output_type": "execute_result"
    }
   ],
   "source": [
    "25*res[0]+5*res[1]+res[2]"
   ]
  },
  {
   "cell_type": "code",
   "execution_count": 46,
   "metadata": {},
   "outputs": [
    {
     "data": {
      "text/plain": [
       "-0.85065080835204"
      ]
     },
     "execution_count": 46,
     "metadata": {},
     "output_type": "execute_result"
    }
   ],
   "source": [
    "(-(1+math.sqrt(5)))/(math.sqrt(2*math.sqrt(5)+10))"
   ]
  },
  {
   "cell_type": "code",
   "execution_count": 45,
   "metadata": {},
   "outputs": [],
   "source": [
    "import math"
   ]
  },
  {
   "cell_type": "code",
   "execution_count": 48,
   "metadata": {},
   "outputs": [
    {
     "name": "stdout",
     "output_type": "stream",
     "text": [
      "9.0\n"
     ]
    }
   ],
   "source": [
    "a =5\n",
    "b =45\n",
    "c = b/a\n",
    "b=55\n",
    "print(c)"
   ]
  },
  {
   "cell_type": "code",
   "execution_count": 7,
   "metadata": {},
   "outputs": [
    {
     "name": "stdout",
     "output_type": "stream",
     "text": [
      "2.5\n"
     ]
    }
   ],
   "source": [
    "print(len('ababa')/len('ab'))"
   ]
  },
  {
   "cell_type": "code",
   "execution_count": 50,
   "metadata": {},
   "outputs": [
    {
     "name": "stdout",
     "output_type": "stream",
     "text": [
      "True\n",
      "True\n",
      "True\n",
      "False\n"
     ]
    }
   ],
   "source": [
    "a = [1,2,3]\n",
    "b=a\n",
    "c= [1,2,3]\n",
    "print(a==b)\n",
    "print(a is b)\n",
    "print(a==c)\n",
    "print(a is c)"
   ]
  },
  {
   "cell_type": "code",
   "execution_count": 1,
   "metadata": {},
   "outputs": [
    {
     "data": {
      "text/plain": [
       "1"
      ]
     },
     "execution_count": 1,
     "metadata": {},
     "output_type": "execute_result"
    }
   ],
   "source": [
    "7%2"
   ]
  },
  {
   "cell_type": "code",
   "execution_count": 2,
   "metadata": {},
   "outputs": [],
   "source": [
    "new_cpc =1"
   ]
  },
  {
   "cell_type": "code",
   "execution_count": 8,
   "metadata": {},
   "outputs": [
    {
     "name": "stdout",
     "output_type": "stream",
     "text": [
      "<class 'str'>\n"
     ]
    }
   ],
   "source": [
    "x='34'\n",
    "y='15'\n",
    "print(type(x*5))"
   ]
  },
  {
   "cell_type": "code",
   "execution_count": 10,
   "metadata": {},
   "outputs": [
    {
     "data": {
      "text/plain": [
       "['март', 'апрель', 'май']"
      ]
     },
     "execution_count": 10,
     "metadata": {},
     "output_type": "execute_result"
    }
   ],
   "source": [
    "months = ['январь', 'февраль', 'март', 'апрель', 'май', 'июнь', 'июль', 'август', 'сентябрь', 'октябрь', 'ноябрь', 'декабрь']\n",
    "months[2:5]"
   ]
  },
  {
   "cell_type": "code",
   "execution_count": 11,
   "metadata": {},
   "outputs": [
    {
     "data": {
      "text/plain": [
       "'bmv'"
      ]
     },
     "execution_count": 11,
     "metadata": {},
     "output_type": "execute_result"
    }
   ],
   "source": [
    "campaign = 'yandex_cpc_bmv_brand_summer'\n",
    "campaign.split('_')[2]"
   ]
  },
  {
   "cell_type": "code",
   "execution_count": 12,
   "metadata": {},
   "outputs": [
    {
     "data": {
      "text/plain": [
       "['yandex', 'promo', 'google']"
      ]
     },
     "execution_count": 12,
     "metadata": {},
     "output_type": "execute_result"
    }
   ],
   "source": [
    "total_costs = { 'google': 1319, 'yandex': 1818, 'promo': 1181 }\n",
    "sorted( total_costs.keys(), reverse = True )"
   ]
  },
  {
   "cell_type": "code",
   "execution_count": 14,
   "metadata": {},
   "outputs": [
    {
     "name": "stdout",
     "output_type": "stream",
     "text": [
      "24\n"
     ]
    }
   ],
   "source": [
    "d = lambda p:p*2\n",
    "t =lambda p:p*3\n",
    "x=2\n",
    "x=d(x)\n",
    "x=t(x)\n",
    "x=d(x)\n",
    "print(x)"
   ]
  },
  {
   "cell_type": "code",
   "execution_count": 15,
   "metadata": {},
   "outputs": [
    {
     "data": {
      "text/plain": [
       "False"
      ]
     },
     "execution_count": 15,
     "metadata": {},
     "output_type": "execute_result"
    }
   ],
   "source": [
    "f=5\n",
    "a=12\n",
    "b=a\n",
    "f==(a-b)"
   ]
  },
  {
   "cell_type": "code",
   "execution_count": 16,
   "metadata": {},
   "outputs": [],
   "source": [
    "a=4 \n",
    "for i in range(4):\n",
    "    a+=a"
   ]
  },
  {
   "cell_type": "code",
   "execution_count": 17,
   "metadata": {},
   "outputs": [
    {
     "data": {
      "text/plain": [
       "64"
      ]
     },
     "execution_count": 17,
     "metadata": {},
     "output_type": "execute_result"
    }
   ],
   "source": [
    "a"
   ]
  },
  {
   "cell_type": "code",
   "execution_count": 20,
   "metadata": {},
   "outputs": [
    {
     "name": "stdout",
     "output_type": "stream",
     "text": [
      "Collecting reports\n",
      "  Downloading reports-0.4.1.tar.gz (150 kB)\n",
      "Collecting easydev\n",
      "  Downloading easydev-0.12.0.tar.gz (47 kB)\n",
      "Requirement already satisfied: pandas in c:\\users\\abylk\\anaconda3\\lib\\site-packages (from reports) (1.2.4)\n",
      "Collecting colormap\n",
      "  Downloading colormap-1.0.3.tar.gz (16 kB)\n",
      "Requirement already satisfied: matplotlib in c:\\users\\abylk\\anaconda3\\lib\\site-packages (from reports) (3.2.2)\n",
      "Requirement already satisfied: jinja2 in c:\\users\\abylk\\anaconda3\\lib\\site-packages (from reports) (2.11.2)\n",
      "Requirement already satisfied: colorama in c:\\users\\abylk\\anaconda3\\lib\\site-packages (from easydev->reports) (0.4.3)\n",
      "Requirement already satisfied: pexpect in c:\\users\\abylk\\anaconda3\\lib\\site-packages (from easydev->reports) (4.8.0)\n",
      "Collecting colorlog\n",
      "  Downloading colorlog-6.5.0-py2.py3-none-any.whl (11 kB)\n",
      "Requirement already satisfied: pytz>=2017.3 in c:\\users\\abylk\\anaconda3\\lib\\site-packages (from pandas->reports) (2020.1)\n",
      "Requirement already satisfied: python-dateutil>=2.7.3 in c:\\users\\abylk\\anaconda3\\lib\\site-packages (from pandas->reports) (2.8.1)\n",
      "Requirement already satisfied: numpy>=1.16.5 in c:\\users\\abylk\\anaconda3\\lib\\site-packages (from pandas->reports) (1.18.5)\n",
      "Requirement already satisfied: pyparsing!=2.0.4,!=2.1.2,!=2.1.6,>=2.0.1 in c:\\users\\abylk\\anaconda3\\lib\\site-packages (from matplotlib->reports) (2.4.7)\n",
      "Requirement already satisfied: kiwisolver>=1.0.1 in c:\\users\\abylk\\anaconda3\\lib\\site-packages (from matplotlib->reports) (1.2.0)\n",
      "Requirement already satisfied: cycler>=0.10 in c:\\users\\abylk\\anaconda3\\lib\\site-packages (from matplotlib->reports) (0.10.0)\n",
      "Requirement already satisfied: MarkupSafe>=0.23 in c:\\users\\abylk\\anaconda3\\lib\\site-packages (from jinja2->reports) (1.1.1)\n",
      "Collecting ptyprocess>=0.5\n",
      "  Downloading ptyprocess-0.7.0-py2.py3-none-any.whl (13 kB)\n",
      "Requirement already satisfied: six>=1.5 in c:\\users\\abylk\\anaconda3\\lib\\site-packages (from python-dateutil>=2.7.3->pandas->reports) (1.15.0)\n",
      "Building wheels for collected packages: reports, easydev, colormap\n",
      "  Building wheel for reports (setup.py): started\n",
      "  Building wheel for reports (setup.py): finished with status 'done'\n",
      "  Created wheel for reports: filename=reports-0.4.1-py3-none-any.whl size=132328 sha256=27531b31a03cc852fb11f20e07062a2d8e7a9989a014240b2348d460df290e39\n",
      "  Stored in directory: c:\\users\\abylk\\appdata\\local\\pip\\cache\\wheels\\e5\\8e\\73\\e0793f46ef923c6623b0e57ebb094004a83026416355b527dc\n",
      "  Building wheel for easydev (setup.py): started\n",
      "  Building wheel for easydev (setup.py): finished with status 'done'\n",
      "  Created wheel for easydev: filename=easydev-0.12.0-py3-none-any.whl size=64220 sha256=62a2699724702514dad4065f52a776747218c997db5743321b1e9129f4a56528\n",
      "  Stored in directory: c:\\users\\abylk\\appdata\\local\\pip\\cache\\wheels\\e2\\47\\9f\\de01f291cfde341b33383bcf1292b17d64c700d4a12b318a7d\n",
      "  Building wheel for colormap (setup.py): started\n",
      "  Building wheel for colormap (setup.py): finished with status 'done'\n",
      "  Created wheel for colormap: filename=colormap-1.0.3-py3-none-any.whl size=15565 sha256=809f760846c48e95831ec6244401d7eff8cfd0a125e7e1a11466fa3ec6ba8858\n",
      "  Stored in directory: c:\\users\\abylk\\appdata\\local\\pip\\cache\\wheels\\fd\\c1\\44\\c67a624db335e7ab225d427399f7090caa9bab621875f8203b\n",
      "Successfully built reports easydev colormap\n",
      "Installing collected packages: colorlog, easydev, colormap, reports, ptyprocess\n",
      "Successfully installed colorlog-6.5.0 colormap-1.0.3 easydev-0.12.0 ptyprocess-0.7.0 reports-0.4.1\n",
      "Note: you may need to restart the kernel to use updated packages.\n"
     ]
    }
   ],
   "source": [
    "pip install reports"
   ]
  },
  {
   "cell_type": "code",
   "execution_count": 21,
   "metadata": {},
   "outputs": [
    {
     "data": {
      "text/plain": [
       "4"
      ]
     },
     "execution_count": 21,
     "metadata": {},
     "output_type": "execute_result"
    }
   ],
   "source": [
    "def add(a,b):\n",
    "    return a+b\n",
    "add(a=1,b=3)\n",
    "    "
   ]
  },
  {
   "cell_type": "code",
   "execution_count": 22,
   "metadata": {},
   "outputs": [
    {
     "name": "stdout",
     "output_type": "stream",
     "text": [
      "2017-12-25 False\n"
     ]
    }
   ],
   "source": [
    "class Reports:\n",
    "    def __init__(self,start,end):\n",
    "        self.start =start\n",
    "        self.end = end\n",
    "    def correct_dates(self):\n",
    "        if self.start>self.end:\n",
    "            return False\n",
    "        return True\n",
    "start = '2017-12-25'\n",
    "end ='2018-01-31'\n",
    "rep = Reports(start,end)\n",
    "rep.start='2018-07-01'\n",
    "print(start,rep.correct_dates())"
   ]
  },
  {
   "cell_type": "code",
   "execution_count": 1,
   "metadata": {},
   "outputs": [
    {
     "name": "stdout",
     "output_type": "stream",
     "text": [
      "2.5\n"
     ]
    }
   ],
   "source": [
    "print(len('ababa')/len('ab'))"
   ]
  },
  {
   "cell_type": "code",
   "execution_count": 4,
   "metadata": {},
   "outputs": [
    {
     "ename": "SyntaxError",
     "evalue": "non-default argument follows default argument (<ipython-input-4-e9711ea3cff2>, line 1)",
     "output_type": "error",
     "traceback": [
      "\u001b[1;36m  File \u001b[1;32m\"<ipython-input-4-e9711ea3cff2>\"\u001b[1;36m, line \u001b[1;32m1\u001b[0m\n\u001b[1;33m    def caapa(c=1,b):\u001b[0m\n\u001b[1;37m              ^\u001b[0m\n\u001b[1;31mSyntaxError\u001b[0m\u001b[1;31m:\u001b[0m non-default argument follows default argument\n"
     ]
    }
   ],
   "source": [
    "def caapa(c=1,b):\n",
    "    return c+b\n",
    "caapa(4)"
   ]
  },
  {
   "cell_type": "code",
   "execution_count": 11,
   "metadata": {},
   "outputs": [],
   "source": [
    "def generate_report(url='https://api.local', **kwargs):\n",
    "    return url "
   ]
  },
  {
   "cell_type": "code",
   "execution_count": 12,
   "metadata": {},
   "outputs": [
    {
     "data": {
      "text/plain": [
       "'https://api.local'"
      ]
     },
     "execution_count": 12,
     "metadata": {},
     "output_type": "execute_result"
    }
   ],
   "source": [
    "generate_report(start='2018-07-01', end='2018-07-31')"
   ]
  },
  {
   "cell_type": "code",
   "execution_count": 13,
   "metadata": {},
   "outputs": [
    {
     "data": {
      "text/plain": [
       "'https://api.local'"
      ]
     },
     "execution_count": 13,
     "metadata": {},
     "output_type": "execute_result"
    }
   ],
   "source": [
    "generate_report(start='2018-07-01', end='2018-07-31', url='https://api.local')"
   ]
  },
  {
   "cell_type": "code",
   "execution_count": 7,
   "metadata": {
    "scrolled": true
   },
   "outputs": [
    {
     "name": "stdout",
     "output_type": "stream",
     "text": [
      "5\n",
      "3 2 5 1\n",
      "-1 -1 -1 -1\n"
     ]
    }
   ],
   "source": [
    "class Stack(object):\n",
    " \n",
    "    def __init__(self):\n",
    "        self.stack = []\n",
    "        \n",
    "    def __str__(self):\n",
    "        return ' '.join([str(i) for i in self.stack])\n",
    " \n",
    "    def top(self):\n",
    "        return self.stack[-1]\n",
    " \n",
    "    def push(self, x):\n",
    "        ans = -1\n",
    "        \n",
    "        return ans\n",
    " \n",
    "    def pop(self):\n",
    "        self.stack.pop()\n",
    " \n",
    "    def empty(self):\n",
    "        return len(self.stack) == 0\n",
    " \n",
    "    def size(self):\n",
    "        return len(self.stack)\n",
    " \n",
    "stack = Stack()\n",
    "n = int(input())\n",
    "a = list(map(int, input().split()))\n",
    "ans = []\n",
    "for x in a:\n",
    "    ans.append(stack.push(x))\n",
    "print(*ans)"
   ]
  },
  {
   "cell_type": "code",
   "execution_count": 1,
   "metadata": {},
   "outputs": [
    {
     "name": "stdout",
     "output_type": "stream",
     "text": [
      "0\n",
      "1\n",
      "2\n",
      "3\n"
     ]
    }
   ],
   "source": [
    "a = [0,1,2,3]\n",
    "for a[0] in a:\n",
    "    print(a[0])"
   ]
  },
  {
   "cell_type": "code",
   "execution_count": 2,
   "metadata": {},
   "outputs": [
    {
     "name": "stdout",
     "output_type": "stream",
     "text": [
      "abcd\n"
     ]
    }
   ],
   "source": [
    "print('abcd'.translate({'a':'1','b':'2','c':'3','d':'4'}))"
   ]
  },
  {
   "cell_type": "code",
   "execution_count": null,
   "metadata": {},
   "outputs": [],
   "source": []
  },
  {
   "cell_type": "code",
   "execution_count": null,
   "metadata": {},
   "outputs": [],
   "source": []
  },
  {
   "cell_type": "code",
   "execution_count": null,
   "metadata": {},
   "outputs": [],
   "source": []
  },
  {
   "cell_type": "code",
   "execution_count": null,
   "metadata": {},
   "outputs": [],
   "source": []
  }
 ],
 "metadata": {
  "kernelspec": {
   "display_name": "Python 3",
   "language": "python",
   "name": "python3"
  },
  "language_info": {
   "codemirror_mode": {
    "name": "ipython",
    "version": 3
   },
   "file_extension": ".py",
   "mimetype": "text/x-python",
   "name": "python",
   "nbconvert_exporter": "python",
   "pygments_lexer": "ipython3",
   "version": "3.8.3"
  }
 },
 "nbformat": 4,
 "nbformat_minor": 4
}
